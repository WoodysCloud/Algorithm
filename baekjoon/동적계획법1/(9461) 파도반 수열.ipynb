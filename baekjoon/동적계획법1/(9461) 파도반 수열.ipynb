{
 "cells": [
  {
   "cell_type": "code",
   "execution_count": 2,
   "id": "72b4ccca",
   "metadata": {},
   "outputs": [
    {
     "name": "stdout",
     "output_type": "stream",
     "text": [
      "2\n",
      "6\n",
      "3\n",
      "12\n",
      "16\n"
     ]
    }
   ],
   "source": [
    "def P(N):\n",
    "    answer = [0, 1, 1, 1, 2, 2, 3, 4, 5, 7, 9]\n",
    "    if N >= 10:\n",
    "        for n in range(11, N+1):\n",
    "            answer.append(answer[n-2]+answer[n-3])\n",
    "    return answer[N]\n",
    "\n",
    "T = int(input())\n",
    "for _ in range(T):\n",
    "    N = int(input())\n",
    "    print(P(N))"
   ]
  },
  {
   "cell_type": "code",
   "execution_count": null,
   "id": "ced1c663",
   "metadata": {},
   "outputs": [],
   "source": [
    "# f(n) = f(n-2) + f(n-3)"
   ]
  }
 ],
 "metadata": {
  "kernelspec": {
   "display_name": "Python 3",
   "language": "python",
   "name": "python3"
  },
  "language_info": {
   "codemirror_mode": {
    "name": "ipython",
    "version": 3
   },
   "file_extension": ".py",
   "mimetype": "text/x-python",
   "name": "python",
   "nbconvert_exporter": "python",
   "pygments_lexer": "ipython3",
   "version": "3.8.8"
  }
 },
 "nbformat": 4,
 "nbformat_minor": 5
}
