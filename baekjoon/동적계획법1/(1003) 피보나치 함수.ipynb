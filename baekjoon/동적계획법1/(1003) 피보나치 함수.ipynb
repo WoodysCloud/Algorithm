{
 "cells": [
  {
   "cell_type": "code",
   "execution_count": 10,
   "id": "0090bb12",
   "metadata": {},
   "outputs": [
    {
     "name": "stdout",
     "output_type": "stream",
     "text": [
      "2\n",
      "6\n",
      "5 8\n",
      "22\n",
      "10946 17711\n"
     ]
    }
   ],
   "source": [
    "zero = [1, 0, 1]\n",
    "one = [0, 1, 1]\n",
    "\n",
    "def fibonacci(n):\n",
    "    length = len(zero)\n",
    "    if n >= length:\n",
    "        for i in range(length, n+1):\n",
    "            zero.append(zero[i-1] + zero[i-2])\n",
    "            one.append(one[i-1] + one[i-2])\n",
    "    print('{} {}'.format(zero[n], one[n]))\n",
    "\n",
    "T = int(input())\n",
    "\n",
    "for _ in range(T):\n",
    "    fibonacci(int(input()))"
   ]
  },
  {
   "cell_type": "code",
   "execution_count": null,
   "id": "273e646a",
   "metadata": {},
   "outputs": [],
   "source": []
  }
 ],
 "metadata": {
  "kernelspec": {
   "display_name": "Python 3",
   "language": "python",
   "name": "python3"
  },
  "language_info": {
   "codemirror_mode": {
    "name": "ipython",
    "version": 3
   },
   "file_extension": ".py",
   "mimetype": "text/x-python",
   "name": "python",
   "nbconvert_exporter": "python",
   "pygments_lexer": "ipython3",
   "version": "3.8.8"
  }
 },
 "nbformat": 4,
 "nbformat_minor": 5
}
