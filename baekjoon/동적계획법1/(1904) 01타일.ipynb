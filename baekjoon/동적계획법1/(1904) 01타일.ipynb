{
 "cells": [
  {
   "cell_type": "code",
   "execution_count": 16,
   "id": "6351483f",
   "metadata": {},
   "outputs": [
    {
     "name": "stdout",
     "output_type": "stream",
     "text": [
      "4\n",
      "[1, 3, 1]\n",
      "5\n"
     ]
    }
   ],
   "source": [
    "from math import comb\n",
    "\n",
    "def solution(N):\n",
    "    zeros = N // 2\n",
    "    dp = [1]\n",
    "    for n in range(1, zeros+1):\n",
    "        dp.append(comb(N-n, n))\n",
    "#     print(dp)\n",
    "    return int(sum(dp) % 15746)\n",
    "        \n",
    "N = int(input())\n",
    "print(solution(N))"
   ]
  },
  {
   "cell_type": "code",
   "execution_count": 2,
   "id": "91b5fb8c",
   "metadata": {},
   "outputs": [],
   "source": [
    "# 00의 개수\n",
    "# f(n) = (N-n) C (n)"
   ]
  },
  {
   "cell_type": "code",
   "execution_count": 18,
   "id": "d4e8c65c",
   "metadata": {},
   "outputs": [
    {
     "name": "stdout",
     "output_type": "stream",
     "text": [
      "4\n",
      "5\n"
     ]
    }
   ],
   "source": [
    "N = int(input())\n",
    "\n",
    "dp = [0] * 1000001\n",
    "dp[1], dp[2] = 1, 2\n",
    "for n in range(3, N+1):\n",
    "    dp[n] = (dp[n-1] + dp[n-2]) % 15746\n",
    "\n",
    "print(dp[N])"
   ]
  },
  {
   "cell_type": "code",
   "execution_count": null,
   "id": "ed46c630",
   "metadata": {},
   "outputs": [],
   "source": []
  }
 ],
 "metadata": {
  "kernelspec": {
   "display_name": "Python 3",
   "language": "python",
   "name": "python3"
  },
  "language_info": {
   "codemirror_mode": {
    "name": "ipython",
    "version": 3
   },
   "file_extension": ".py",
   "mimetype": "text/x-python",
   "name": "python",
   "nbconvert_exporter": "python",
   "pygments_lexer": "ipython3",
   "version": "3.8.8"
  }
 },
 "nbformat": 4,
 "nbformat_minor": 5
}
