{
 "cells": [
  {
   "cell_type": "code",
   "execution_count": 4,
   "id": "d8caea06",
   "metadata": {},
   "outputs": [
    {
     "name": "stdout",
     "output_type": "stream",
     "text": [
      "3\n",
      "26 40 83\n",
      "49 60 57\n",
      "13 89 99\n",
      "96\n"
     ]
    }
   ],
   "source": [
    "N = int(input())\n",
    "\n",
    "rgb = []\n",
    "for _ in range(N):\n",
    "    rgb.append(list(map(int, input().split())))\n",
    "\n",
    "for i in range(1, N):\n",
    "    rgb[i][0] = min(rgb[i-1][1], rgb[i-1][2]) + rgb[i][0]\n",
    "    rgb[i][1] = min(rgb[i-1][0], rgb[i-1][2]) + rgb[i][1]\n",
    "    rgb[i][2] = min(rgb[i-1][0], rgb[i-1][1]) + rgb[i][2]\n",
    "    \n",
    "print(min(rgb[N-1][0], rgb[N-1][1], rgb[N-1][2]))"
   ]
  },
  {
   "cell_type": "code",
   "execution_count": null,
   "id": "e1cc05eb",
   "metadata": {},
   "outputs": [],
   "source": []
  }
 ],
 "metadata": {
  "kernelspec": {
   "display_name": "Python 3",
   "language": "python",
   "name": "python3"
  },
  "language_info": {
   "codemirror_mode": {
    "name": "ipython",
    "version": 3
   },
   "file_extension": ".py",
   "mimetype": "text/x-python",
   "name": "python",
   "nbconvert_exporter": "python",
   "pygments_lexer": "ipython3",
   "version": "3.8.8"
  }
 },
 "nbformat": 4,
 "nbformat_minor": 5
}
