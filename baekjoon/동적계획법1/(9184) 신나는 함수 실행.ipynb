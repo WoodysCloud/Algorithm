{
 "cells": [
  {
   "cell_type": "code",
   "execution_count": 40,
   "id": "de33015e",
   "metadata": {},
   "outputs": [
    {
     "name": "stdout",
     "output_type": "stream",
     "text": [
      "1 1 1\n",
      "w(1, 1, 1) = 2\n",
      "2 2 2\n",
      "w(2, 2, 2) = 4\n",
      "10 4 6\n",
      "w(10, 4, 6) = 523\n",
      "50 50 50\n",
      "w(50, 50, 50) = 1048576\n",
      "-1 -1 -1\n"
     ]
    }
   ],
   "source": [
    "dp = [[[0]*21 for _ in range(21)] for _ in range(21)]\n",
    "\n",
    "def w(a, b, c):\n",
    "    if a<=0 or b<=0 or c<=0:\n",
    "        return 1\n",
    "    \n",
    "    if a>20 or b>20 or c>20:\n",
    "        return w(20, 20, 20)\n",
    "    \n",
    "    if dp[a][b][c]:\n",
    "        return dp[a][b][c]\n",
    "    \n",
    "    if a<b<c:\n",
    "        dp[a][b][c] = w(a, b, c-1) + w(a, b-1, c-1) - w(a, b-1, c)\n",
    "        \n",
    "    dp[a][b][c] = w(a-1, b, c) + w(a-1, b-1, c) + w(a-1, b, c-1) - w(a-1, b-1, c-1)\n",
    "    return dp[a][b][c]\n",
    "    \n",
    "while True:\n",
    "    a, b, c = map(int, input().split())\n",
    "    if a==-1 and b==-1 and c==-1:\n",
    "        break\n",
    "    print(f'w({a}, {b}, {c}) = {w(a, b, c)}')"
   ]
  },
  {
   "cell_type": "markdown",
   "id": "4eba47dc",
   "metadata": {},
   "source": [
    "- 재귀함수\n",
    "- Dynamic Programming\n",
    "- 메모이제이션"
   ]
  },
  {
   "cell_type": "code",
   "execution_count": null,
   "id": "432b3157",
   "metadata": {},
   "outputs": [],
   "source": []
  }
 ],
 "metadata": {
  "kernelspec": {
   "display_name": "Python 3",
   "language": "python",
   "name": "python3"
  },
  "language_info": {
   "codemirror_mode": {
    "name": "ipython",
    "version": 3
   },
   "file_extension": ".py",
   "mimetype": "text/x-python",
   "name": "python",
   "nbconvert_exporter": "python",
   "pygments_lexer": "ipython3",
   "version": "3.8.8"
  }
 },
 "nbformat": 4,
 "nbformat_minor": 5
}
