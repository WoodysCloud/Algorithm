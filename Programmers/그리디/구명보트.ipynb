{
 "cells": [
  {
   "cell_type": "code",
   "execution_count": 1,
   "id": "d38bbddb",
   "metadata": {},
   "outputs": [],
   "source": [
    "def solution(people, limit):\n",
    "    people.sort()\n",
    "    answer = 0\n",
    "    a = 0 # 처음 사람(몸무게 최소)\n",
    "    b = len(people) - 1 # 마지막 사람(몸무게 최대)\n",
    "    while a < b: # \"작은사람부터 태운다\"\n",
    "        if people[a] + people[b] <= limit:\n",
    "            a += 1\n",
    "            answer += 1\n",
    "        b -= 1 # 몸무게가 최소인 사람과도 limit에 걸린다? \n",
    "               # => 그 다음 사람은 몸무게가 더 크니까 b는 계속 작아짐\n",
    "    return len(people) - answer"
   ]
  },
  {
   "cell_type": "code",
   "execution_count": 3,
   "id": "ab313683",
   "metadata": {},
   "outputs": [],
   "source": [
    "# 다른 풀이\n",
    "from collections import deque\n",
    "\n",
    "def solution(people, limit):\n",
    "    result = 0\n",
    "    deque_people = deque(sorted(people))\n",
    "\n",
    "    while deque_people:\n",
    "        left = deque_people.popleft()\n",
    "        if not deque_people:\n",
    "            return result + 1\n",
    "        right = deque_people.pop()\n",
    "        if left + right > limit:\n",
    "            deque_people.appendleft(left)\n",
    "        result += 1\n",
    "    return result"
   ]
  },
  {
   "cell_type": "code",
   "execution_count": null,
   "id": "3eb8d832",
   "metadata": {},
   "outputs": [],
   "source": []
  }
 ],
 "metadata": {
  "kernelspec": {
   "display_name": "Python 3",
   "language": "python",
   "name": "python3"
  },
  "language_info": {
   "codemirror_mode": {
    "name": "ipython",
    "version": 3
   },
   "file_extension": ".py",
   "mimetype": "text/x-python",
   "name": "python",
   "nbconvert_exporter": "python",
   "pygments_lexer": "ipython3",
   "version": "3.8.8"
  }
 },
 "nbformat": 4,
 "nbformat_minor": 5
}
