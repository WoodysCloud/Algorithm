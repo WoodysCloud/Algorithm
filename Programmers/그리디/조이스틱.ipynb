{
 "cells": [
  {
   "cell_type": "code",
   "execution_count": 2,
   "id": "e039a349",
   "metadata": {},
   "outputs": [],
   "source": [
    "def solution(name):\n",
    "    answer = 0\n",
    "    \n",
    "    min_move = len(name) - 1\n",
    "    \n",
    "    for i, char in enumerate(name):\n",
    "        answer += min(ord(char) - ord('A'), ord('Z') - ord(char) + 1)\n",
    "        \n",
    "        next = i + 1\n",
    "        while next < len(name) and name[next] == 'A':\n",
    "            next += 1\n",
    "            \n",
    "        min_move = min([min_move, 2*i + len(name) - next, i + 2*(len(name) -next)])\n",
    "        \n",
    "    answer += min_move\n",
    "    \n",
    "    return answer"
   ]
  },
  {
   "cell_type": "code",
   "execution_count": 3,
   "id": "1efafe7e",
   "metadata": {},
   "outputs": [],
   "source": [
    "def solution(name):\n",
    "\n",
    "    # 조이스틱 조작 횟수 \n",
    "    answer = 0\n",
    "    \n",
    "    # 기본 최소 좌우이동 횟수는 길이 - 1(좌 -> 우)\n",
    "    min_move = len(name) - 1\n",
    "    \n",
    "    for i, char in enumerate(name):\n",
    "        # 해당 알파벳 변경 최소값 추가\n",
    "        # 26개 알파벳, 최소값 비교 후 최소값 반환\n",
    "        # 조이스틱 상하 방향\n",
    "        answer += min(ord(char) - ord('A'), ord('Z') - ord(char) + 1)\n",
    "        \n",
    "        # 해당 알파벳 다음부터 연속된 A 문자열 찾기\n",
    "        # 조이스틱 좌우 방향\n",
    "        next = i + 1\n",
    "        while next < len(name) and name[next] == 'A':\n",
    "            next += 1\n",
    "            \n",
    "        # 1. 기존방식, \n",
    "        # 2. 왼쪽->오른쪽 방식(ex. BBBAAAAAAABBB), BBB(왼쪽3개 = i) -> 다시 BBB(i) -> BBB(오른쪽3개 = len(name)-next)\n",
    "        # 3. 오른쪽->왼쪽 방식(ex. BBBAAAAAAABBB), BBB(오른쪽3개 = len(name)-next) -> 다시 BBB(len(name)-next) -> BBB(왼쪽 3개 = i)\n",
    "        min_move = min([min_move, 2*i + len(name) - next, i + 2*(len(name) -next)])\n",
    "        \n",
    "    # 알파벳 변경(상하이동) 횟수에 좌우이동 횟수 추가\n",
    "    answer += min_move\n",
    "    \n",
    "    return answer"
   ]
  },
  {
   "cell_type": "code",
   "execution_count": null,
   "id": "bad3c33c",
   "metadata": {},
   "outputs": [],
   "source": []
  }
 ],
 "metadata": {
  "kernelspec": {
   "display_name": "Python 3",
   "language": "python",
   "name": "python3"
  },
  "language_info": {
   "codemirror_mode": {
    "name": "ipython",
    "version": 3
   },
   "file_extension": ".py",
   "mimetype": "text/x-python",
   "name": "python",
   "nbconvert_exporter": "python",
   "pygments_lexer": "ipython3",
   "version": "3.8.8"
  }
 },
 "nbformat": 4,
 "nbformat_minor": 5
}
