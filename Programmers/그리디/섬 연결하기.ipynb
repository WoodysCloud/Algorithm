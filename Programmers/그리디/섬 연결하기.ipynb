{
 "cells": [
  {
   "cell_type": "code",
   "execution_count": 1,
   "id": "1cc8b9c1",
   "metadata": {},
   "outputs": [],
   "source": [
    "def solution(n, costs):\n",
    "    answer = 0\n",
    "    costs.sort(key=lambda x: x[2]) # 비용으로 정렬\n",
    "    # print(costs)\n",
    "    tmp = set([costs[0][0]]) # 집합안에 노드가 다 들어있을 경우 => 완성\n",
    "    while len(tmp) != n:\n",
    "        for cost in costs: # 적은 비용부터 루프\n",
    "            # print(costs)\n",
    "            if cost[0] in tmp and cost[1] in tmp: # 노드 두개가 둘 다 있을 경우 다음 루프\n",
    "                continue\n",
    "            if cost[0] in tmp or cost[1] in tmp: # 둘 중에 하나만 있을 경우\n",
    "                tmp.update([cost[0], cost[1]]) # 추가\n",
    "                answer += cost[2] # 비용 더해주고\n",
    "                costs.remove(cost) # while에서 for로 들어올 때를 대비해서 remove\n",
    "                break\n",
    "\n",
    "    return answer"
   ]
  },
  {
   "cell_type": "code",
   "execution_count": 2,
   "id": "f5817b97",
   "metadata": {},
   "outputs": [],
   "source": [
    "def solution(n, costs):\n",
    "    # kruskal algorithm\n",
    "    ans = 0\n",
    "    costs.sort(key = lambda x: x[2]) # cost 기준으로 오름차순 정렬\n",
    "    routes = set([costs[0][0]]) # 집합\n",
    "    print(costs)\n",
    "    while len(routes)!=n:\n",
    "        for i, cost in enumerate(costs):\n",
    "            if cost[0] in routes and cost[1] in routes:\n",
    "                continue\n",
    "            if cost[0] in routes or cost[1] in routes:\n",
    "                print(cost, costs)\n",
    "                routes.update([cost[0], cost[1]])\n",
    "                ans += cost[2]\n",
    "                # del costs[i]\n",
    "                break\n",
    "                \n",
    "    return ans"
   ]
  },
  {
   "cell_type": "code",
   "execution_count": null,
   "id": "6ae30632",
   "metadata": {},
   "outputs": [],
   "source": []
  }
 ],
 "metadata": {
  "kernelspec": {
   "display_name": "Python 3",
   "language": "python",
   "name": "python3"
  },
  "language_info": {
   "codemirror_mode": {
    "name": "ipython",
    "version": 3
   },
   "file_extension": ".py",
   "mimetype": "text/x-python",
   "name": "python",
   "nbconvert_exporter": "python",
   "pygments_lexer": "ipython3",
   "version": "3.8.8"
  }
 },
 "nbformat": 4,
 "nbformat_minor": 5
}
