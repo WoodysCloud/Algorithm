{
 "cells": [
  {
   "cell_type": "code",
   "execution_count": 2,
   "id": "f678d41a",
   "metadata": {},
   "outputs": [],
   "source": [
    "def solution(number, k):\n",
    "    stack = []\n",
    "    for n in number:\n",
    "        while k>0 and stack and stack[-1]<n:\n",
    "            stack.pop()\n",
    "            k -= 1\n",
    "        stack.append(n)\n",
    "    answer = ''.join(stack[:len(stack)-k])\n",
    "    return answer"
   ]
  },
  {
   "cell_type": "code",
   "execution_count": 4,
   "id": "cb5d85cc",
   "metadata": {},
   "outputs": [],
   "source": [
    "def solution(number, k):\n",
    "    answer = ''\n",
    "    stack = []\n",
    "    \n",
    "    # 여태 나온 숫자'들'보다 더 큰 숫자가 나온다? => for문(모든 문자 append) 안에 while문(얼마나 제거할 지 모름)\n",
    "    for num in number:\n",
    "        while k > 0 and stack and stack[-1] < num: # 두번째 루프부터, 다음 숫자가 더 클 경우\n",
    "            stack.pop() # 작은 숫자 제거\n",
    "            k -= 1 # 제거한 만큼 k값 1씩 감소\n",
    "        stack.append(num) # 처음루프 + 계속 하나씩 넣어줌\n",
    "    \n",
    "    # k>0일 경우? => 뒤에서부터 k개 숫자 제거(제일 작은 숫자들)\n",
    "    answer = ''.join(stack[:len(stack)-k])\n",
    "    \n",
    "    return answer"
   ]
  },
  {
   "cell_type": "code",
   "execution_count": null,
   "id": "c11b19f3",
   "metadata": {},
   "outputs": [],
   "source": []
  }
 ],
 "metadata": {
  "kernelspec": {
   "display_name": "Python 3",
   "language": "python",
   "name": "python3"
  },
  "language_info": {
   "codemirror_mode": {
    "name": "ipython",
    "version": 3
   },
   "file_extension": ".py",
   "mimetype": "text/x-python",
   "name": "python",
   "nbconvert_exporter": "python",
   "pygments_lexer": "ipython3",
   "version": "3.8.8"
  }
 },
 "nbformat": 4,
 "nbformat_minor": 5
}
