{
 "cells": [
  {
   "cell_type": "code",
   "execution_count": 3,
   "id": "b4a20196",
   "metadata": {},
   "outputs": [],
   "source": [
    "from collections import deque\n",
    "\n",
    "def solution(n, lost, reserve):\n",
    "    \n",
    "    # 중복 제거 및 정렬하기 위해 set\n",
    "    lost2 = set(lost) \n",
    "    reserve2 = set(reserve)\n",
    "    # 차집합으로 중복 제거\n",
    "    lost = lost2 - reserve2\n",
    "    reserve = reserve2 - lost2\n",
    "    \n",
    "    answer = n - len(lost)\n",
    "    lost = deque(lost)\n",
    "    \n",
    "    while lost: # 잃어버린 사람들 하나씩 빼서 빌릴 수 있는지 확인\n",
    "        l = lost.popleft()\n",
    "        if l-1 in reserve:\n",
    "            reserve.remove(l-1) # 빌렸으니 여분 하나 제거\n",
    "            answer += 1 # 여분으로 한명 추가\n",
    "        elif l+1 in reserve:\n",
    "            reserve.remove(l+1)\n",
    "            answer += 1\n",
    "        \n",
    "    return answer"
   ]
  },
  {
   "cell_type": "markdown",
   "id": "a248b7ab",
   "metadata": {},
   "source": [
    "- 정렬\n",
    "- list.remove()\n",
    "- list comprehension => ex. \"[x for x in list1 if x not in list2]\""
   ]
  },
  {
   "cell_type": "code",
   "execution_count": null,
   "id": "b7541255",
   "metadata": {},
   "outputs": [],
   "source": []
  }
 ],
 "metadata": {
  "kernelspec": {
   "display_name": "Python 3",
   "language": "python",
   "name": "python3"
  },
  "language_info": {
   "codemirror_mode": {
    "name": "ipython",
    "version": 3
   },
   "file_extension": ".py",
   "mimetype": "text/x-python",
   "name": "python",
   "nbconvert_exporter": "python",
   "pygments_lexer": "ipython3",
   "version": "3.8.8"
  }
 },
 "nbformat": 4,
 "nbformat_minor": 5
}
