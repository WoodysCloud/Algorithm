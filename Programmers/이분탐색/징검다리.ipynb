{
 "cells": [
  {
   "cell_type": "code",
   "execution_count": 10,
   "id": "5ac6cf16",
   "metadata": {},
   "outputs": [],
   "source": [
    "def solution(distance, rocks, n):\n",
    "    answer = 0\n",
    "    \n",
    "    rocks.sort()  # 징검다리 정렬\n",
    "    rocks.append(distance)  # 마지막 도착지와의 거리까지 계산하기 위해\n",
    "    \n",
    "    left, right = 0, distance  # 이분 탐색 스타트!\n",
    "    while left <= right:\n",
    "        # 나는 거리의 최솟값을 mid로 잡겠다!(거리가 mid 이하이면 다 없앤다!)\n",
    "        mid = (left + right) // 2  \n",
    "        min_distance = float('inf')  # 각 mid 에서 최솟값을 저장할 녀석, infinity\n",
    "        current = 0  # 현재 위치\n",
    "        remove_cnt = 0  # 바위를 제거한 개수\n",
    "        \n",
    "        # 거리 재기 스타트\n",
    "        for rock in rocks:\n",
    "            diff = rock - current  # 바위와 현재 위치 사이의 거리\n",
    "            if diff < mid:  # mid 보다 거리가 짧으면 바위 제거\n",
    "                remove_cnt += 1\n",
    "            else:  # mid 보다 거리가 길거나 같으면 바위 그대로 두고\n",
    "                current = rock  # 현재 위치를 그 바위로 옮기고\n",
    "                min_distance = min(min_distance, diff)  # 해당 mid 단계에서의 최소거리인지 체크\n",
    "        \n",
    "        # mid를 설정하는 단계\n",
    "        if remove_cnt > n:  # 바위를 너무 많이 제거 했다. mid를 줄여서 바위를 조금만 제거하자\n",
    "            print(\"remove_cnt >  n:\", left, mid, right, remove_cnt)\n",
    "            right = mid - 1\n",
    "        else:  # 바위를 너무 적게 제거했다 and 딱 맞다. mid를 늘려서 바위를 더 제거하거나 mid의 최댓값을 올려보자\n",
    "            print(\"remove_cnt <= n:\", left, mid, right, remove_cnt)\n",
    "            answer = min_distance # while 바깥으로 빼면?? => 테스트 2, 5, 7 실패 => why??\n",
    "            left = mid + 1\n",
    "\n",
    "    return answer"
   ]
  },
  {
   "cell_type": "code",
   "execution_count": 11,
   "id": "2d04c85c",
   "metadata": {},
   "outputs": [
    {
     "name": "stdout",
     "output_type": "stream",
     "text": [
      "remove_cnt >  n: 0 12 25 5\n",
      "remove_cnt >  n: 0 5 11 3\n",
      "remove_cnt <= n: 0 2 4 0\n",
      "remove_cnt <= n: 3 3 4 1\n",
      "remove_cnt <= n: 4 4 4 2\n"
     ]
    },
    {
     "data": {
      "text/plain": [
       "4"
      ]
     },
     "execution_count": 11,
     "metadata": {},
     "output_type": "execute_result"
    }
   ],
   "source": [
    "distance = 25\n",
    "rocks = [2, 14, 11, 21, 17]\n",
    "n = 2\n",
    "\n",
    "solution(distance, rocks, n)"
   ]
  },
  {
   "cell_type": "markdown",
   "id": "51467549",
   "metadata": {},
   "source": [
    "left - (A) - mid - (B) - right\n",
    "- (A) => right = mid - 1\n",
    "- (B) => left = mid + 1"
   ]
  },
  {
   "cell_type": "code",
   "execution_count": null,
   "id": "cfa10b72",
   "metadata": {},
   "outputs": [],
   "source": []
  }
 ],
 "metadata": {
  "kernelspec": {
   "display_name": "Python 3",
   "language": "python",
   "name": "python3"
  },
  "language_info": {
   "codemirror_mode": {
    "name": "ipython",
    "version": 3
   },
   "file_extension": ".py",
   "mimetype": "text/x-python",
   "name": "python",
   "nbconvert_exporter": "python",
   "pygments_lexer": "ipython3",
   "version": "3.8.8"
  }
 },
 "nbformat": 4,
 "nbformat_minor": 5
}
