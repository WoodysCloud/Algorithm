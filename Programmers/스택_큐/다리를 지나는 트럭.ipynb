{
 "cells": [
  {
   "cell_type": "code",
   "execution_count": 1,
   "id": "c2ef31ef",
   "metadata": {},
   "outputs": [],
   "source": [
    "from collections import deque\n",
    "\n",
    "def solution(bridge_length, weight, truck_weights):\n",
    "    bridge = deque(0 for _ in range(bridge_length)) # 다리에 오를 수 있는 트럭의 최대 수\n",
    "    total_weight = 0 # Big-O Notation\n",
    "    answer = 0 # 단계\n",
    "    truck_weights.reverse()\n",
    "\n",
    "    while truck_weights: # 마지막 트럭이 다리를 건너기 시작할때까지 => 마지막 트럭이 다리를 다 건너는 데 필요한 시간을 마지막(\"여기\")에 더해줘야함\n",
    "\n",
    "        # bridge.popleft()\n",
    "        # if sum(bridge) + truck_weights[-1] > weight:\n",
    "        #     bridge.append(0)\n",
    "        \n",
    "        total_weight -= bridge.popleft()\n",
    "        if total_weight + truck_weights[-1] > weight:\n",
    "            bridge.append(0)\n",
    "        \n",
    "        # else:\n",
    "        #     bridge.append(truck_weights.pop())\n",
    "        \n",
    "        else:\n",
    "            truck = truck_weights.pop()\n",
    "            bridge.append(truck)\n",
    "            total_weight += truck\n",
    "        answer += 1\n",
    "\n",
    "    answer += bridge_length # 여기\n",
    "\n",
    "    return answer"
   ]
  },
  {
   "cell_type": "code",
   "execution_count": 2,
   "id": "ae4c2011",
   "metadata": {},
   "outputs": [],
   "source": [
    "bridge_length = 2\n",
    "weight = 10\n",
    "truck_weights = [7,4,5,6]"
   ]
  },
  {
   "cell_type": "code",
   "execution_count": 3,
   "id": "d45b47b8",
   "metadata": {},
   "outputs": [
    {
     "data": {
      "text/plain": [
       "8"
      ]
     },
     "execution_count": 3,
     "metadata": {},
     "output_type": "execute_result"
    }
   ],
   "source": [
    "solution(bridge_length, weight, truck_weights)"
   ]
  },
  {
   "cell_type": "code",
   "execution_count": 4,
   "id": "7cb3d191",
   "metadata": {},
   "outputs": [],
   "source": [
    "bridge_length = 100\n",
    "weight = 100\n",
    "truck_weights = [10]"
   ]
  },
  {
   "cell_type": "code",
   "execution_count": 5,
   "id": "aa7a7c30",
   "metadata": {},
   "outputs": [
    {
     "data": {
      "text/plain": [
       "101"
      ]
     },
     "execution_count": 5,
     "metadata": {},
     "output_type": "execute_result"
    }
   ],
   "source": [
    "solution(bridge_length, weight, truck_weights)"
   ]
  },
  {
   "cell_type": "code",
   "execution_count": 6,
   "id": "62173355",
   "metadata": {},
   "outputs": [],
   "source": [
    "bridge_length = 100\n",
    "weight = 100\n",
    "truck_weights = [10,10,10,10,10,10,10,10,10,10]"
   ]
  },
  {
   "cell_type": "code",
   "execution_count": 8,
   "id": "14157b11",
   "metadata": {},
   "outputs": [
    {
     "data": {
      "text/plain": [
       "100"
      ]
     },
     "execution_count": 8,
     "metadata": {},
     "output_type": "execute_result"
    }
   ],
   "source": [
    "solution(bridge_length, weight, truck_weights)"
   ]
  },
  {
   "cell_type": "code",
   "execution_count": null,
   "id": "baff62d8",
   "metadata": {},
   "outputs": [],
   "source": []
  }
 ],
 "metadata": {
  "kernelspec": {
   "display_name": "Python 3",
   "language": "python",
   "name": "python3"
  },
  "language_info": {
   "codemirror_mode": {
    "name": "ipython",
    "version": 3
   },
   "file_extension": ".py",
   "mimetype": "text/x-python",
   "name": "python",
   "nbconvert_exporter": "python",
   "pygments_lexer": "ipython3",
   "version": "3.8.8"
  }
 },
 "nbformat": 4,
 "nbformat_minor": 5
}
