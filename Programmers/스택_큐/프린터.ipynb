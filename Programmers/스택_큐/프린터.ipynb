{
 "cells": [
  {
   "cell_type": "markdown",
   "id": "19450b9c",
   "metadata": {},
   "source": [
    "# My Answer\n",
    "- runtime error"
   ]
  },
  {
   "cell_type": "code",
   "execution_count": 1,
   "id": "8af9152d",
   "metadata": {},
   "outputs": [],
   "source": [
    "from collections import deque\n",
    "\n",
    "def solution(priorities, location):\n",
    "    answer = 0\n",
    "    queue = deque((p,i) for i, p in enumerate(priorities))\n",
    "    \n",
    "    while queue:\n",
    "        q = queue.popleft()\n",
    "        if q[0] < max(queue)[0]:\n",
    "            queue.append(q)\n",
    "        else:\n",
    "            answer += 1\n",
    "            if location == q[1]:\n",
    "                break\n",
    "        \n",
    "    return answer"
   ]
  },
  {
   "cell_type": "markdown",
   "id": "6e1d001b",
   "metadata": {},
   "source": [
    "# Others"
   ]
  },
  {
   "cell_type": "code",
   "execution_count": 2,
   "id": "54bf994c",
   "metadata": {},
   "outputs": [],
   "source": [
    "from collections import deque\n",
    "\n",
    "def solution(priorities, location):\n",
    "    answer = 0\n",
    "    queue = deque([(v,i) for i,v in enumerate(priorities)])\n",
    "    \n",
    "    while queue:\n",
    "        m = queue.popleft() # 하나씩 꺼내서 확인\n",
    "        if queue and max(queue)[0] > m[0]: # 우선순위가 아닐 경우\n",
    "            queue.append(m) # 꺼낸 거 다시 넣어주기\n",
    "        else: # 우선순위일 경우\n",
    "            answer +=1 # 순서 +1\n",
    "            if location == m[1]: # 위치까지 일치하면 break\n",
    "                break\n",
    "    return answer"
   ]
  },
  {
   "cell_type": "code",
   "execution_count": 3,
   "id": "0154f2dc",
   "metadata": {},
   "outputs": [],
   "source": [
    "def solution(priorities, location):\n",
    "    queue =  [(i,p) for i,p in enumerate(priorities)]\n",
    "    answer = 0\n",
    "    while True:\n",
    "        cur = queue.pop(0)\n",
    "        if any(cur[1] < q[1] for q in queue):\n",
    "            queue.append(cur)\n",
    "        else:\n",
    "            answer += 1\n",
    "            if cur[0] == location:\n",
    "                return answer"
   ]
  },
  {
   "cell_type": "code",
   "execution_count": null,
   "id": "e129602e",
   "metadata": {},
   "outputs": [],
   "source": []
  }
 ],
 "metadata": {
  "kernelspec": {
   "display_name": "Python 3",
   "language": "python",
   "name": "python3"
  },
  "language_info": {
   "codemirror_mode": {
    "name": "ipython",
    "version": 3
   },
   "file_extension": ".py",
   "mimetype": "text/x-python",
   "name": "python",
   "nbconvert_exporter": "python",
   "pygments_lexer": "ipython3",
   "version": "3.8.8"
  }
 },
 "nbformat": 4,
 "nbformat_minor": 5
}
