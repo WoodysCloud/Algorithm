{
 "cells": [
  {
   "cell_type": "markdown",
   "id": "a4b5189a",
   "metadata": {},
   "source": [
    "# My Answer"
   ]
  },
  {
   "cell_type": "code",
   "execution_count": 1,
   "id": "d433fde5",
   "metadata": {},
   "outputs": [],
   "source": [
    "def solution(prices):\n",
    "    answer = []\n",
    "    count = 0\n",
    "    while prices:\n",
    "        price = prices.pop(0)\n",
    "        if prices:\n",
    "            for p in prices:\n",
    "                if price <= p:\n",
    "                    count += 1\n",
    "            answer.append(count)\n",
    "        else:\n",
    "            answer.append(0)\n",
    "        count = 0\n",
    "            \n",
    "    return answer"
   ]
  },
  {
   "cell_type": "markdown",
   "id": "06f8c850",
   "metadata": {},
   "source": [
    " - 정확성/시간 전부 탈락"
   ]
  },
  {
   "cell_type": "markdown",
   "id": "9fc82f15",
   "metadata": {},
   "source": [
    "# Others"
   ]
  },
  {
   "cell_type": "code",
   "execution_count": 2,
   "id": "d4b9dbea",
   "metadata": {},
   "outputs": [],
   "source": [
    "from collections import deque\n",
    "\n",
    "def solution(prices):\n",
    "    answer = []\n",
    "    prices = deque(prices)\n",
    "    while prices:\n",
    "        count = 0\n",
    "        price = prices.popleft()\n",
    "        for p in prices:\n",
    "            count += 1\n",
    "            if price > p:\n",
    "                break\n",
    "        answer.append(count)\n",
    "            \n",
    "    return answer"
   ]
  },
  {
   "cell_type": "markdown",
   "id": "3c2afc56",
   "metadata": {},
   "source": [
    " - break"
   ]
  },
  {
   "cell_type": "code",
   "execution_count": 24,
   "id": "bc01a52b",
   "metadata": {},
   "outputs": [],
   "source": [
    "def solution(prices):\n",
    "    n = len(prices)\n",
    "    # 1. answer를 prices 길이와 맞춘다.\n",
    "    answer = [0] * n\n",
    "    # 2. 스택 생성\n",
    "    st = []\n",
    "    # 3. 0 ~ n-1 초까지 순회\n",
    "    for i in range(n):\n",
    "        # 1. 스택 비지 않고, prices[top] > prices[i] 이라면 다음 반복\n",
    "        # 1-1. 스택에서 마지막에 저장된 시간 top 꺼냄\n",
    "        # 1-2. answer[top]에 i - top을 저장\n",
    "        while st and prices[st[-1]] > prices[i]:\n",
    "            top = st.pop()\n",
    "            answer[top] = i - top\n",
    "        # 2. 스택에 현재 시간 i 저장\n",
    "        st.append(i)\n",
    "    \n",
    "    # 4. 만약 스택이 남아있다면, 스택이 빌 때까지 다음 반복\n",
    "    while st:\n",
    "        # 1. 스택에서 마지막에 저장된 시간 top 꺼냄\n",
    "        # 2. answer[top]에 가장 마지막 시간 n - i 에서 top을 뺸 시간 저장\n",
    "        top = st.pop()\n",
    "        answer[top] = n - 1 - top\n",
    "    \n",
    "    return answer"
   ]
  },
  {
   "cell_type": "markdown",
   "id": "1c387b77",
   "metadata": {},
   "source": [
    "- 스택/큐 활용\n",
    "- 시간복잡도 제일 우수"
   ]
  },
  {
   "cell_type": "code",
   "execution_count": 25,
   "id": "e962ba9a",
   "metadata": {},
   "outputs": [],
   "source": [
    "prices = [1, 2, 3, 2, 3]"
   ]
  },
  {
   "cell_type": "code",
   "execution_count": 26,
   "id": "26ac39a5",
   "metadata": {},
   "outputs": [
    {
     "name": "stdout",
     "output_type": "stream",
     "text": [
      "[0, 0, 1, 0, 0]\n",
      "[0, 1, 3, 4]\n"
     ]
    },
    {
     "data": {
      "text/plain": [
       "[4, 3, 1, 1, 0]"
      ]
     },
     "execution_count": 26,
     "metadata": {},
     "output_type": "execute_result"
    }
   ],
   "source": [
    "solution(prices)"
   ]
  },
  {
   "cell_type": "code",
   "execution_count": null,
   "id": "3c4f580f",
   "metadata": {},
   "outputs": [],
   "source": []
  }
 ],
 "metadata": {
  "kernelspec": {
   "display_name": "Python 3",
   "language": "python",
   "name": "python3"
  },
  "language_info": {
   "codemirror_mode": {
    "name": "ipython",
    "version": 3
   },
   "file_extension": ".py",
   "mimetype": "text/x-python",
   "name": "python",
   "nbconvert_exporter": "python",
   "pygments_lexer": "ipython3",
   "version": "3.8.8"
  }
 },
 "nbformat": 4,
 "nbformat_minor": 5
}
