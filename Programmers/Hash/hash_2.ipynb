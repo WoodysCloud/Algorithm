{
 "cells": [
  {
   "cell_type": "markdown",
   "id": "d4c9cf01",
   "metadata": {},
   "source": [
    "# 2. 전화번호 목록"
   ]
  },
  {
   "cell_type": "code",
   "execution_count": 25,
   "id": "94cef6cc",
   "metadata": {},
   "outputs": [],
   "source": [
    "# 속도\n",
    "\n",
    "def solution(phone_book):\n",
    "    dic = {}\n",
    "    for pNumber in phone_book:\n",
    "        dic[pNumber] = 1\n",
    "    for pNumber in phone_book:\n",
    "        temp=\"\"\n",
    "        for num in pNumber:\n",
    "            temp += num\n",
    "#             print(temp)\n",
    "            if temp in dic and temp != pNumber:\n",
    "#                 print(dic)\n",
    "                return False\n",
    "    return True"
   ]
  },
  {
   "cell_type": "code",
   "execution_count": 44,
   "id": "a9f1c45e",
   "metadata": {},
   "outputs": [],
   "source": [
    "# 메모리\n",
    "\n",
    "def solution(phone_book):\n",
    "    phone_book = sorted(phone_book)\n",
    "    for p1, p2 in zip(phone_book, phone_book[1:]):\n",
    "        if p2.startswith(p1):\n",
    "            return False\n",
    "    return True"
   ]
  },
  {
   "cell_type": "code",
   "execution_count": 26,
   "id": "80c273c3",
   "metadata": {},
   "outputs": [
    {
     "name": "stdout",
     "output_type": "stream",
     "text": [
      "1\n",
      "11\n",
      "119\n",
      "9\n",
      "97\n",
      "976\n",
      "9767\n",
      "97674\n",
      "976742\n",
      "9767422\n",
      "97674223\n",
      "1\n",
      "11\n",
      "119\n",
      "{'119': 1, '97674223': 1, '1195524421': 1}\n"
     ]
    },
    {
     "data": {
      "text/plain": [
       "False"
      ]
     },
     "execution_count": 26,
     "metadata": {},
     "output_type": "execute_result"
    }
   ],
   "source": [
    "phone_book = [\"119\", \"97674223\", \"1195524421\"]\n",
    "solution(phone_book)"
   ]
  },
  {
   "cell_type": "code",
   "execution_count": 27,
   "id": "9912116e",
   "metadata": {},
   "outputs": [
    {
     "name": "stdout",
     "output_type": "stream",
     "text": [
      "1\n",
      "12\n",
      "123\n",
      "4\n",
      "45\n",
      "456\n",
      "7\n",
      "78\n",
      "789\n"
     ]
    },
    {
     "data": {
      "text/plain": [
       "True"
      ]
     },
     "execution_count": 27,
     "metadata": {},
     "output_type": "execute_result"
    }
   ],
   "source": [
    "phone_book = [\"123\", \"456\", \"789\"]\n",
    "solution(phone_book)"
   ]
  },
  {
   "cell_type": "code",
   "execution_count": 28,
   "id": "b193b176",
   "metadata": {
    "scrolled": true
   },
   "outputs": [
    {
     "name": "stdout",
     "output_type": "stream",
     "text": [
      "1\n",
      "12\n",
      "1\n",
      "12\n",
      "{'12': 1, '123': 1, '1235': 1, '567': 1, '88': 1}\n"
     ]
    },
    {
     "data": {
      "text/plain": [
       "False"
      ]
     },
     "execution_count": 28,
     "metadata": {},
     "output_type": "execute_result"
    }
   ],
   "source": [
    "phone_book = [\"12\", \"123\", \"1235\", \"567\", \"88\"]\n",
    "solution(phone_book)"
   ]
  },
  {
   "cell_type": "code",
   "execution_count": 15,
   "id": "fd9d81e0",
   "metadata": {},
   "outputs": [
    {
     "name": "stdout",
     "output_type": "stream",
     "text": [
      "p1: 12\n",
      "p2: 123\n",
      "True\n",
      "\n",
      "\n",
      "p1: 123\n",
      "p2: 1235\n",
      "True\n",
      "\n",
      "\n",
      "p1: 1235\n",
      "p2: 567\n",
      "False\n",
      "\n",
      "\n",
      "p1: 567\n",
      "p2: 88\n",
      "False\n",
      "\n",
      "\n"
     ]
    }
   ],
   "source": [
    "for p1, p2 in zip(phone_book, phone_book[1:]):\n",
    "    print('p1:', p1)\n",
    "    print('p2:', p2)\n",
    "    print(p2.startswith(p1))\n",
    "    print(\"\\n\")"
   ]
  },
  {
   "cell_type": "code",
   "execution_count": 12,
   "id": "0b5e1703",
   "metadata": {},
   "outputs": [
    {
     "data": {
      "text/plain": [
       "{'12': '123', '123': '1235', '1235': '567', '567': '88'}"
      ]
     },
     "execution_count": 12,
     "metadata": {},
     "output_type": "execute_result"
    }
   ],
   "source": [
    "dict(zip(phone_book, phone_book[1:]))"
   ]
  }
 ],
 "metadata": {
  "kernelspec": {
   "display_name": "Python 3",
   "language": "python",
   "name": "python3"
  },
  "language_info": {
   "codemirror_mode": {
    "name": "ipython",
    "version": 3
   },
   "file_extension": ".py",
   "mimetype": "text/x-python",
   "name": "python",
   "nbconvert_exporter": "python",
   "pygments_lexer": "ipython3",
   "version": "3.8.8"
  }
 },
 "nbformat": 4,
 "nbformat_minor": 5
}
