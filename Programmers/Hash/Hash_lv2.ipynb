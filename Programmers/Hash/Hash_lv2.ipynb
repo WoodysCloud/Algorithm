{
 "cells": [
  {
   "cell_type": "markdown",
   "id": "d4c9cf01",
   "metadata": {},
   "source": [
    "# 2. 전화번호 목록"
   ]
  },
  {
   "cell_type": "markdown",
   "id": "55ac1f1c",
   "metadata": {},
   "source": [
    "### 문제 설명\n",
    "전화번호부에 적힌 전화번호 중, 한 번호가 다른 번호의 접두어인 경우가 있는지 확인하려 합니다.\n",
    "전화번호가 다음과 같을 경우, 구조대 전화번호는 영석이의 전화번호의 접두사입니다.\n",
    "\n",
    " - 구조대 : 119\n",
    " - 박준영 : 97 674 223\n",
    " - 지영석 : 11 9552 4421\n",
    "\n",
    "전화번호부에 적힌 전화번호를 담은 배열 phone_book 이 solution 함수의 매개변수로 주어질 때, 어떤 번호가 다른 번호의 접두어인 경우가 있으면 false를 그렇지 않으면 true를 return 하도록 solution 함수를 작성해주세요.\n",
    "\n",
    "### 제한 사항\n",
    " - phone_book의 길이는 1 이상 1,000,000 이하입니다.\n",
    "     - 각 전화번호의 길이는 1 이상 20 이하입니다.\n",
    "     - 같은 전화번호가 중복해서 들어있지 않습니다."
   ]
  },
  {
   "cell_type": "code",
   "execution_count": 48,
   "id": "94cef6cc",
   "metadata": {},
   "outputs": [],
   "source": [
    "def solution(phone_book):\n",
    "    answer = True\n",
    "    dic = {}\n",
    "    for pNumber in phone_book:\n",
    "        dic[pNumber] = 1 \n",
    "    for pNumber in phone_book:\n",
    "        temp=\"\"\n",
    "        for num in pNumber:\n",
    "            temp +=num\n",
    "            print(temp)\n",
    "            if temp in dic and temp!=pNumber:\n",
    "                answer = False\n",
    "    print(dic)\n",
    "    return answer"
   ]
  },
  {
   "cell_type": "code",
   "execution_count": 44,
   "id": "a9f1c45e",
   "metadata": {},
   "outputs": [],
   "source": [
    "def solution(phoneBook):\n",
    "    phoneBook = sorted(phoneBook)\n",
    "    for p1, p2 in zip(phoneBook, phoneBook[1:]):\n",
    "        if p2.startswith(p1):\n",
    "            return False\n",
    "    return True"
   ]
  },
  {
   "cell_type": "code",
   "execution_count": 49,
   "id": "80c273c3",
   "metadata": {},
   "outputs": [
    {
     "name": "stdout",
     "output_type": "stream",
     "text": [
      "1\n",
      "11\n",
      "119\n",
      "9\n",
      "97\n",
      "976\n",
      "9767\n",
      "97674\n",
      "976742\n",
      "9767422\n",
      "97674223\n",
      "1\n",
      "11\n",
      "119\n",
      "1195\n",
      "11955\n",
      "119552\n",
      "1195524\n",
      "11955244\n",
      "119552442\n",
      "1195524421\n",
      "{'119': 1, '97674223': 1, '1195524421': 1}\n"
     ]
    },
    {
     "data": {
      "text/plain": [
       "False"
      ]
     },
     "execution_count": 49,
     "metadata": {},
     "output_type": "execute_result"
    }
   ],
   "source": [
    "phone_book = [\"119\", \"97674223\", \"1195524421\"]\n",
    "solution(phone_book)"
   ]
  },
  {
   "cell_type": "code",
   "execution_count": 46,
   "id": "9912116e",
   "metadata": {},
   "outputs": [
    {
     "name": "stdout",
     "output_type": "stream",
     "text": [
      "456\n",
      "789\n"
     ]
    },
    {
     "data": {
      "text/plain": [
       "True"
      ]
     },
     "execution_count": 46,
     "metadata": {},
     "output_type": "execute_result"
    }
   ],
   "source": [
    "phone_book = [\"123\", \"456\", \"789\"]\n",
    "solution(phone_book)"
   ]
  },
  {
   "cell_type": "code",
   "execution_count": 47,
   "id": "b193b176",
   "metadata": {
    "scrolled": true
   },
   "outputs": [
    {
     "name": "stdout",
     "output_type": "stream",
     "text": [
      "123\n"
     ]
    },
    {
     "data": {
      "text/plain": [
       "False"
      ]
     },
     "execution_count": 47,
     "metadata": {},
     "output_type": "execute_result"
    }
   ],
   "source": [
    "phone_book = [\"12\", \"123\", \"1235\", \"567\", \"88\"]\n",
    "solution(phone_book)"
   ]
  },
  {
   "cell_type": "code",
   "execution_count": null,
   "id": "6ee81c0f",
   "metadata": {},
   "outputs": [],
   "source": []
  }
 ],
 "metadata": {
  "kernelspec": {
   "display_name": "Python 3",
   "language": "python",
   "name": "python3"
  },
  "language_info": {
   "codemirror_mode": {
    "name": "ipython",
    "version": 3
   },
   "file_extension": ".py",
   "mimetype": "text/x-python",
   "name": "python",
   "nbconvert_exporter": "python",
   "pygments_lexer": "ipython3",
   "version": "3.8.8"
  }
 },
 "nbformat": 4,
 "nbformat_minor": 5
}
