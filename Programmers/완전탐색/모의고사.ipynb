{
 "cells": [
  {
   "cell_type": "markdown",
   "id": "6573418c",
   "metadata": {},
   "source": [
    "# My Answer"
   ]
  },
  {
   "cell_type": "code",
   "execution_count": 1,
   "id": "1c7b1617",
   "metadata": {},
   "outputs": [],
   "source": [
    "def solution(answers):\n",
    "    \n",
    "    # 최대 10,000개 문제\n",
    "    a = [1,2,3,4,5] * 2000\n",
    "    b = [2,1,2,3,2,4,2,5] * 1250\n",
    "    c = [3,3,1,1,2,2,4,4,5,5] * 1000\n",
    "    \n",
    "    # 점수 변수 설정\n",
    "    aa, bb, cc = 0, 0 ,0\n",
    "    \n",
    "    # 정답일 경우 점수 +1\n",
    "    for i in range(len(answers)):\n",
    "        if answers[i] == a[i]:\n",
    "            aa += 1\n",
    "        if answers[i] == b[i]:\n",
    "            bb += 1\n",
    "        if answers[i] == c[i]:\n",
    "            cc += 1\n",
    "            \n",
    "    # 1번, 2번, 3번 순서대로 점수 리스트\n",
    "    score = [aa, bb, cc]\n",
    "    \n",
    "    # 1번, 2번, 3번\n",
    "    answer = [1, 2, 3]\n",
    "    for i in range(3):\n",
    "        # 1등보다 점수 낮으면 리스트에서 제거\n",
    "        if score[i] < max(score):\n",
    "            answer.remove(i+1)\n",
    "    return answer"
   ]
  },
  {
   "cell_type": "code",
   "execution_count": 2,
   "id": "f8fcf611",
   "metadata": {},
   "outputs": [],
   "source": [
    "answers1 = [1,2,3,4,5]\n",
    "answers2 = [1,3,2,4,2]"
   ]
  },
  {
   "cell_type": "code",
   "execution_count": 5,
   "id": "b36c0231",
   "metadata": {},
   "outputs": [
    {
     "data": {
      "text/plain": [
       "([1], [1, 2, 3])"
      ]
     },
     "execution_count": 5,
     "metadata": {},
     "output_type": "execute_result"
    }
   ],
   "source": [
    "solution(answers1), solution(answers2)"
   ]
  },
  {
   "cell_type": "markdown",
   "id": "4f4f9907",
   "metadata": {},
   "source": [
    "# Others"
   ]
  },
  {
   "cell_type": "code",
   "execution_count": null,
   "id": "e537dc1c",
   "metadata": {},
   "outputs": [],
   "source": [
    "def solution(answers):\n",
    "    pattern1 = [1,2,3,4,5]\n",
    "    pattern2 = [2,1,2,3,2,4,2,5]\n",
    "    pattern3 = [3,3,1,1,2,2,4,4,5,5]\n",
    "    score = [0, 0, 0]\n",
    "    result = []\n",
    "    \n",
    "    for idx, answer in enumerate(answers):\n",
    "        # 최대 10,000문제, 길이로 나눈 나머지를 index로?\n",
    "        if answer == pattern1[idx%len(pattern1)]:\n",
    "            score[0] += 1\n",
    "        if answer == pattern2[idx%len(pattern2)]:\n",
    "            score[1] += 1\n",
    "        if answer == pattern3[idx%len(pattern3)]:\n",
    "            score[2] += 1\n",
    "    \n",
    "    # 최고점의 index를 append?\n",
    "    for idx, s in enumerate(score):\n",
    "        if s == max(score):\n",
    "            result.append(idx+1)\n",
    "\n",
    "    return result"
   ]
  },
  {
   "cell_type": "code",
   "execution_count": null,
   "id": "1df60849",
   "metadata": {},
   "outputs": [],
   "source": [
    "def solution(answers):\n",
    "    # 2차원 배열?\n",
    "    p = [[1, 2, 3, 4, 5],\n",
    "         [2, 1, 2, 3, 2, 4, 2, 5],\n",
    "         [3, 3, 1, 1, 2, 2, 4, 4, 5, 5]]\n",
    "    # 굳이 len(p)?\n",
    "    s = [0] * len(p)\n",
    "\n",
    "    for q, a in enumerate(answers):\n",
    "        for i, v in enumerate(p):\n",
    "            if a == v[q % len(v)]:\n",
    "                s[i] += 1\n",
    "    return [i + 1 for i, v in enumerate(s) if v == max(s)]"
   ]
  },
  {
   "cell_type": "code",
   "execution_count": null,
   "id": "c7ebc1ef",
   "metadata": {},
   "outputs": [],
   "source": [
    "a = [1, 2, 3, 4, 5]\n",
    "b = [2, 1, 2, 3, 2, 4, 2, 5]\n",
    "c = [3, 3, 1, 1, 2, 2, 4, 4, 5, 5]\n",
    "\n",
    "def solution(answers):\n",
    "    answer = []\n",
    "    \n",
    "    # 정답인 문제를 1로? 정답의 개수를 리스트로?\n",
    "    aa = [1 for i, val in enumerate(answers) if a[i % 5] == val]\n",
    "    bb = [1 for i, val in enumerate(answers) if b[i % 8] == val]\n",
    "    cc = [1 for i, val in enumerate(answers) if c[i % 10] == val]\n",
    "\n",
    "    x = max([len(aa),len(bb),len(cc)])\n",
    "\n",
    "    # 빈 리스트 answer에 append?\n",
    "    if x == len(aa) :\n",
    "        answer.append(1)\n",
    "    if x == len(bb) :\n",
    "        answer.append(2)\n",
    "    if x == len(cc) :\n",
    "        answer.append(3)\n",
    "\n",
    "    # 내림차순 정렬\n",
    "    sorted(answer)\n",
    "\n",
    "    return answer"
   ]
  }
 ],
 "metadata": {
  "kernelspec": {
   "display_name": "Python 3",
   "language": "python",
   "name": "python3"
  },
  "language_info": {
   "codemirror_mode": {
    "name": "ipython",
    "version": 3
   },
   "file_extension": ".py",
   "mimetype": "text/x-python",
   "name": "python",
   "nbconvert_exporter": "python",
   "pygments_lexer": "ipython3",
   "version": "3.8.8"
  }
 },
 "nbformat": 4,
 "nbformat_minor": 5
}
