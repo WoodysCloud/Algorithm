{
 "cells": [
  {
   "cell_type": "markdown",
   "id": "ed06385b",
   "metadata": {},
   "source": [
    "# My Answer"
   ]
  },
  {
   "cell_type": "code",
   "execution_count": 13,
   "id": "6c6fcb30",
   "metadata": {},
   "outputs": [],
   "source": [
    "from itertools import permutations\n",
    "\n",
    "def solution(numbers):\n",
    "    \n",
    "    # 문자열 하나씩 리스트로\n",
    "    tmp = []\n",
    "    for n in numbers:\n",
    "        tmp.append(n)\n",
    "        \n",
    "    # 문자열 하나씩 조합(순열)\n",
    "    tmp2 = []\n",
    "    for l in range(len(numbers)):\n",
    "        tmp2 += list(permutations(tmp, l+1))\n",
    "    \n",
    "    # 나올 수 있는 경우의 수 모두 int로 변경 후 리스트로, join(iterable)\n",
    "    nums = list(set([int((\"\").join(t)) for t in tmp2]))\n",
    "    \n",
    "    # 소수 찾기\n",
    "    prime = []\n",
    "    for n in nums:\n",
    "        \n",
    "        # 2보다 작으면 소수 X\n",
    "        if n < 2:\n",
    "            continue\n",
    "        \n",
    "        # 소수 판별용 변수 check (True일 경우 append 위함)\n",
    "        check = True\n",
    "        \n",
    "        # 제곱근보다 작은 수들로 나누었을 때, 나머지 0이면 소수 X => check = False\n",
    "        for i in range(2, int(n**0.5)+1):\n",
    "            if n % i == 0:\n",
    "                check = False\n",
    "                break\n",
    "                \n",
    "        if check:\n",
    "            prime.append(n)\n",
    "    \n",
    "    answer = len(prime)\n",
    "    \n",
    "    return answer"
   ]
  },
  {
   "cell_type": "code",
   "execution_count": 17,
   "id": "dc36b3ae",
   "metadata": {},
   "outputs": [],
   "source": [
    "numbers1 = \"17\"\n",
    "numbers2 = \"011\""
   ]
  },
  {
   "cell_type": "code",
   "execution_count": 15,
   "id": "c91e1068",
   "metadata": {
    "scrolled": false
   },
   "outputs": [
    {
     "data": {
      "text/plain": [
       "(3, 2)"
      ]
     },
     "execution_count": 15,
     "metadata": {},
     "output_type": "execute_result"
    }
   ],
   "source": [
    "solution(numbers1), solution(numbers2)"
   ]
  },
  {
   "cell_type": "markdown",
   "id": "e52f6790",
   "metadata": {},
   "source": [
    "# Others"
   ]
  },
  {
   "cell_type": "code",
   "execution_count": 55,
   "id": "090ce9df",
   "metadata": {},
   "outputs": [],
   "source": [
    "from itertools import permutations\n",
    "\n",
    "def solution(n):\n",
    "    \n",
    "    a = set()\n",
    "    \n",
    "    # 나올 수 있는 경우의 수 모두 순열로 -> map으로 모두 join처리 -> 다시 map으로 int로 변경처리 -> set으로 담아서\n",
    "    # bitwise operator \"|=\"\n",
    "    for i in range(len(n)):\n",
    "        a |= set(map(int, map(\"\".join, permutations(list(n), i + 1))))\n",
    "    \n",
    "    # set은 연산자로 추가/삭제가 가능하다?\n",
    "    a -= set(range(0, 2))\n",
    "    \n",
    "    for i in range(2, int(max(a) ** 0.5) + 1):\n",
    "        a -= set(range(i * 2, max(a) + 1, i))\n",
    "        \n",
    "    return len(a)"
   ]
  },
  {
   "cell_type": "code",
   "execution_count": 56,
   "id": "268ff198",
   "metadata": {},
   "outputs": [
    {
     "data": {
      "text/plain": [
       "(3, 2)"
      ]
     },
     "execution_count": 56,
     "metadata": {},
     "output_type": "execute_result"
    }
   ],
   "source": [
    "solution(numbers1), solution(numbers2)"
   ]
  },
  {
   "cell_type": "code",
   "execution_count": 21,
   "id": "d98773ca",
   "metadata": {},
   "outputs": [
    {
     "data": {
      "text/plain": [
       "['1', '7']"
      ]
     },
     "execution_count": 21,
     "metadata": {},
     "output_type": "execute_result"
    }
   ],
   "source": [
    "list(numbers1)"
   ]
  },
  {
   "cell_type": "code",
   "execution_count": 22,
   "id": "492fbba9",
   "metadata": {},
   "outputs": [
    {
     "data": {
      "text/plain": [
       "['0', '1', '1']"
      ]
     },
     "execution_count": 22,
     "metadata": {},
     "output_type": "execute_result"
    }
   ],
   "source": [
    "list(numbers2)"
   ]
  },
  {
   "cell_type": "code",
   "execution_count": null,
   "id": "1bc79d76",
   "metadata": {},
   "outputs": [],
   "source": []
  }
 ],
 "metadata": {
  "kernelspec": {
   "display_name": "Python 3",
   "language": "python",
   "name": "python3"
  },
  "language_info": {
   "codemirror_mode": {
    "name": "ipython",
    "version": 3
   },
   "file_extension": ".py",
   "mimetype": "text/x-python",
   "name": "python",
   "nbconvert_exporter": "python",
   "pygments_lexer": "ipython3",
   "version": "3.8.8"
  }
 },
 "nbformat": 4,
 "nbformat_minor": 5
}
