{
 "cells": [
  {
   "cell_type": "markdown",
   "id": "b005969f",
   "metadata": {},
   "source": [
    "# My Answer"
   ]
  },
  {
   "cell_type": "code",
   "execution_count": 1,
   "id": "b20ef885",
   "metadata": {},
   "outputs": [],
   "source": [
    "def solution(brown, yellow):\n",
    "    answer = []\n",
    "    tiles = brown + yellow # 격자 총 개수\n",
    "    for num in range(3, int(tiles**0.5)+1): # 정사각형 기준으로 생각 \n",
    "        if tiles % num == 0: # 약수 판별\n",
    "            if (num + tiles/num) * 2 - 4 == brown: # 둘레 길이\n",
    "                answer = [tiles/num, num] # 순차적으로 loop 돌기 때문에 num값이 곧 세로길이\n",
    "    return answer"
   ]
  },
  {
   "cell_type": "markdown",
   "id": "ff233627",
   "metadata": {},
   "source": [
    "# Others"
   ]
  },
  {
   "cell_type": "code",
   "execution_count": 2,
   "id": "0aa0cfb4",
   "metadata": {},
   "outputs": [],
   "source": [
    "def solution(brown, yellow):\n",
    "    w = (brown / 2) + 1\n",
    "    h = 1\n",
    "    while w >= h:\n",
    "        if (w - 2) * (h - 2) == yellow:\n",
    "            return [w, h]\n",
    "        w -= 1\n",
    "        h += 1"
   ]
  },
  {
   "cell_type": "code",
   "execution_count": null,
   "id": "c549bb3f",
   "metadata": {},
   "outputs": [],
   "source": []
  }
 ],
 "metadata": {
  "kernelspec": {
   "display_name": "Python 3",
   "language": "python",
   "name": "python3"
  },
  "language_info": {
   "codemirror_mode": {
    "name": "ipython",
    "version": 3
   },
   "file_extension": ".py",
   "mimetype": "text/x-python",
   "name": "python",
   "nbconvert_exporter": "python",
   "pygments_lexer": "ipython3",
   "version": "3.8.8"
  }
 },
 "nbformat": 4,
 "nbformat_minor": 5
}
