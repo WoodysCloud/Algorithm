{
 "cells": [
  {
   "cell_type": "markdown",
   "id": "52b9b29a",
   "metadata": {},
   "source": [
    "# 위장"
   ]
  },
  {
   "cell_type": "markdown",
   "id": "139a1c97",
   "metadata": {},
   "source": [
    "- 각 종류별 개수 + 1(안입는 경우)\n",
    "- *="
   ]
  },
  {
   "cell_type": "code",
   "execution_count": 5,
   "id": "8271d37d",
   "metadata": {},
   "outputs": [],
   "source": [
    "def solution(clothes):\n",
    "    answer = 1\n",
    "    \n",
    "    d = {}\n",
    "    for val, key in clothes:\n",
    "        if key in d.keys():\n",
    "            d[key].append(val)\n",
    "        else:\n",
    "            d[key] = [val]\n",
    "#     print(d)\n",
    "    for val in d.values():\n",
    "        answer *= (len(val)+1)\n",
    "    \n",
    "    return answer - 1"
   ]
  },
  {
   "cell_type": "code",
   "execution_count": 6,
   "id": "b7ffd003",
   "metadata": {},
   "outputs": [],
   "source": [
    "clothes1 = [[\"yellowhat\", \"headgear\"], [\"bluesunglasses\", \"eyewear\"], [\"green_turban\", \"headgear\"]]\n",
    "clothes2 = [[\"crowmask\", \"face\"], [\"bluesunglasses\", \"face\"], [\"smoky_makeup\", \"face\"]]"
   ]
  },
  {
   "cell_type": "code",
   "execution_count": 7,
   "id": "f1247407",
   "metadata": {},
   "outputs": [
    {
     "name": "stdout",
     "output_type": "stream",
     "text": [
      "{'headgear': ['yellowhat', 'green_turban'], 'eyewear': ['bluesunglasses']}\n"
     ]
    },
    {
     "data": {
      "text/plain": [
       "5"
      ]
     },
     "execution_count": 7,
     "metadata": {},
     "output_type": "execute_result"
    }
   ],
   "source": [
    "solution(clothes1)"
   ]
  },
  {
   "cell_type": "code",
   "execution_count": 8,
   "id": "b81c9a7a",
   "metadata": {},
   "outputs": [
    {
     "name": "stdout",
     "output_type": "stream",
     "text": [
      "{'face': ['crowmask', 'bluesunglasses', 'smoky_makeup']}\n"
     ]
    },
    {
     "data": {
      "text/plain": [
       "3"
      ]
     },
     "execution_count": 8,
     "metadata": {},
     "output_type": "execute_result"
    }
   ],
   "source": [
    "solution(clothes2)"
   ]
  },
  {
   "cell_type": "markdown",
   "id": "1ec77445",
   "metadata": {},
   "source": [
    " - for문에 index 2개\n",
    " - dictionary 생성 방법\n",
    " - 알고리즘: 코딩 전 수학문제 풀 듯 머리로 생각"
   ]
  },
  {
   "cell_type": "code",
   "execution_count": 48,
   "id": "1f8a2679",
   "metadata": {},
   "outputs": [],
   "source": [
    "from collections import Counter\n",
    "from functools import reduce\n",
    "    \n",
    "def solution(clothes):\n",
    "    cnt = Counter([kind for name, kind in clothes])\n",
    "    print(cnt)\n",
    "    print(cnt.values())\n",
    "    answer = reduce(lambda x, y: x*(y+1), cnt.values(), 1) - 1\n",
    "    return answer"
   ]
  },
  {
   "cell_type": "code",
   "execution_count": 46,
   "id": "e1e89856",
   "metadata": {},
   "outputs": [
    {
     "name": "stdout",
     "output_type": "stream",
     "text": [
      "Counter({'headgear': 2, 'eyewear': 1})\n",
      "dict_values([2, 1])\n"
     ]
    },
    {
     "data": {
      "text/plain": [
       "3"
      ]
     },
     "execution_count": 46,
     "metadata": {},
     "output_type": "execute_result"
    }
   ],
   "source": [
    "solution(clothes1)"
   ]
  },
  {
   "cell_type": "code",
   "execution_count": 47,
   "id": "bb5557df",
   "metadata": {},
   "outputs": [
    {
     "name": "stdout",
     "output_type": "stream",
     "text": [
      "Counter({'face': 3})\n",
      "dict_values([3])\n"
     ]
    },
    {
     "data": {
      "text/plain": [
       "2"
      ]
     },
     "execution_count": 47,
     "metadata": {},
     "output_type": "execute_result"
    }
   ],
   "source": [
    "solution(clothes2)"
   ]
  },
  {
   "cell_type": "code",
   "execution_count": null,
   "id": "8583367e",
   "metadata": {},
   "outputs": [],
   "source": []
  }
 ],
 "metadata": {
  "kernelspec": {
   "display_name": "Python 3",
   "language": "python",
   "name": "python3"
  },
  "language_info": {
   "codemirror_mode": {
    "name": "ipython",
    "version": 3
   },
   "file_extension": ".py",
   "mimetype": "text/x-python",
   "name": "python",
   "nbconvert_exporter": "python",
   "pygments_lexer": "ipython3",
   "version": "3.8.8"
  }
 },
 "nbformat": 4,
 "nbformat_minor": 5
}
