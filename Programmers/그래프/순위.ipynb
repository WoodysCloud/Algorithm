{
 "cells": [
  {
   "cell_type": "code",
   "execution_count": 1,
   "id": "053828dd",
   "metadata": {},
   "outputs": [],
   "source": [
    "from collections import defaultdict\n",
    "\n",
    "def solution(n, results):\n",
    "    answer = 0\n",
    "    winners = defaultdict(set)\n",
    "    losers = defaultdict(set)\n",
    "    \n",
    "    for w, l in results:\n",
    "        winners[l].add(w)\n",
    "        losers[w].add(l)\n",
    "    \n",
    "    for i in range(1, n+1):\n",
    "        for winner in winners[i]:\n",
    "            losers[winner].update(losers[i])\n",
    "        for loser in losers[i]:\n",
    "            winners[loser].update(winners[i])\n",
    "    \n",
    "    \n",
    "    \n",
    "    for i in range(1, n+1):\n",
    "        if len(winners[i]) + len(losers[i]) == n-1:\n",
    "            answer += 1\n",
    "            \n",
    "    return answer"
   ]
  },
  {
   "cell_type": "code",
   "execution_count": 2,
   "id": "a84b4277",
   "metadata": {},
   "outputs": [
    {
     "data": {
      "text/plain": [
       "2"
      ]
     },
     "execution_count": 2,
     "metadata": {},
     "output_type": "execute_result"
    }
   ],
   "source": [
    "n = 5\n",
    "results = [[4, 3], [4, 2], [3, 2], [1, 2], [2, 5]]\n",
    "solution(n, results)"
   ]
  },
  {
   "cell_type": "code",
   "execution_count": null,
   "id": "41639a9c",
   "metadata": {},
   "outputs": [],
   "source": []
  }
 ],
 "metadata": {
  "kernelspec": {
   "display_name": "Python 3",
   "language": "python",
   "name": "python3"
  },
  "language_info": {
   "codemirror_mode": {
    "name": "ipython",
    "version": 3
   },
   "file_extension": ".py",
   "mimetype": "text/x-python",
   "name": "python",
   "nbconvert_exporter": "python",
   "pygments_lexer": "ipython3",
   "version": "3.8.8"
  }
 },
 "nbformat": 4,
 "nbformat_minor": 5
}
