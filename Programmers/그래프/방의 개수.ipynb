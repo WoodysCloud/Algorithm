{
 "cells": [
  {
   "cell_type": "code",
   "execution_count": 1,
   "id": "778766aa",
   "metadata": {},
   "outputs": [],
   "source": [
    "# 좌표를 다 계산? => 노드 위치 정보\n",
    "# 한 점을 두번 지나면?\n",
    "# A노드로 시작해서 A노드로 다시 돌아오면?\n",
    "from collections import defaultdict\n",
    "\n",
    "def solution(arrows):\n",
    "    answer = 0\n",
    "    visit = defaultdict(list)\n",
    "    x, y = 0, 0 # 초기 좌표\n",
    "    dx = [0, 1, 1, 1, 0, -1, -1, -1] # x방향 좌표이동\n",
    "    dy = [1, 1, 0, -1, -1, -1, 0, 1] # y방향 좌표이동\n",
    "    \n",
    "    for a in arrows:\n",
    "        for _ in range(2): # 대각선으로 교차할 경우를 고려하여 2칸씩 이동\n",
    "            # 다음 좌표\n",
    "            nx = x + dx[a]\n",
    "            ny = y + dy[a]\n",
    "            if (nx,ny) in visit and (x,y) not in visit[(nx,ny)]: # 방문했던 좌표인데, 경로가 겹치지 않을 경우 => 방 +1\n",
    "                answer += 1\n",
    "                # 경로 저장\n",
    "                visit[(x,y)].append((nx,ny)) # 출발 노드 -> 도착 노드, 출발 노드에 도착한 노드 저장\n",
    "                visit[(nx,ny)].append((x,y)) # 도착 노드 <- 출발 노드, 도착 노드에 출발했던 노드 저장\n",
    "            elif (nx,ny) not in visit: # 방문하지 않은 좌표, 경로는 굳이 필요없음\n",
    "                visit[(x,y)].append((nx,ny))\n",
    "                visit[(nx,ny)].append((x,y))\n",
    "            x, y = nx, ny\n",
    "    \n",
    "    return answer"
   ]
  },
  {
   "cell_type": "code",
   "execution_count": null,
   "id": "4af5394d",
   "metadata": {},
   "outputs": [],
   "source": []
  }
 ],
 "metadata": {
  "kernelspec": {
   "display_name": "Python 3",
   "language": "python",
   "name": "python3"
  },
  "language_info": {
   "codemirror_mode": {
    "name": "ipython",
    "version": 3
   },
   "file_extension": ".py",
   "mimetype": "text/x-python",
   "name": "python",
   "nbconvert_exporter": "python",
   "pygments_lexer": "ipython3",
   "version": "3.8.8"
  }
 },
 "nbformat": 4,
 "nbformat_minor": 5
}
