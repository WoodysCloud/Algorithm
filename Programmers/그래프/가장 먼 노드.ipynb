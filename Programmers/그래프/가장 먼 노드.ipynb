{
 "cells": [
  {
   "cell_type": "code",
   "execution_count": 8,
   "id": "c4783180",
   "metadata": {},
   "outputs": [],
   "source": [
    "from collections import deque\n",
    "\n",
    "def solution(n, edge):\n",
    "    answer = 0 # 가장 먼 노드의 개수\n",
    "    tree = [[] for _ in range(n)] # 노드별 연결돼있는 노드 정보\n",
    "    visited = [False] * (n) # 방문여부\n",
    "    distance = [0] * (n) # 거리계산\n",
    "    for n1, n2 in edge: # 노드가 1부터 시작하므로 -1 해주고, 양방향이므로 append 양방향으로\n",
    "        tree[n1-1].append(n2-1)\n",
    "        tree[n2-1].append(n1-1)\n",
    "#     print(\"t\", tree, \"\\n\")\n",
    "    \n",
    "    queue = deque([0]) # 시작 노드 (1번부터 시작, 문제는 1번노드와 가장 먼 노드)\n",
    "    while queue:\n",
    "#         print(\"q\", queue)\n",
    "        q = queue.popleft() # 시작\n",
    "        visited[q] = True # 시작 노드 방문처리\n",
    "        for nextn in tree[q]: # 시작 노드와 연결된 노드를 next변수로 할당\n",
    "            if visited[nextn] == False: # 노드를 방문하지 않았을 경우 => 모든 노드 방문할 것\n",
    "                visited[nextn] = True # 방문처리\n",
    "                distance[nextn] = distance[q] + 1 # 시작노드와의 거리\n",
    "                queue.append(nextn) # 방문한 다음노드들 append\n",
    "#                 print(\"n\", nextn)\n",
    "#                 print(\"d\", distance, \"\\n\")\n",
    "            \n",
    "    maxd = max(distance) # 루프 안에 max 쓸 경우 n^2이므로 변수로 할당 \n",
    "    for d in distance:\n",
    "        if d == maxd:\n",
    "            answer += 1\n",
    "            \n",
    "    return answer"
   ]
  },
  {
   "cell_type": "code",
   "execution_count": 9,
   "id": "64250383",
   "metadata": {},
   "outputs": [
    {
     "name": "stdout",
     "output_type": "stream",
     "text": [
      "t [[2, 1], [2, 0, 3, 4], [5, 3, 1, 0], [2, 1], [1], [2]] \n",
      "\n",
      "q deque([0])\n",
      "n 2\n",
      "d [0, 0, 1, 0, 0, 0] \n",
      "\n",
      "n 1\n",
      "d [0, 1, 1, 0, 0, 0] \n",
      "\n",
      "q deque([2, 1])\n",
      "n 5\n",
      "d [0, 1, 1, 0, 0, 2] \n",
      "\n",
      "n 3\n",
      "d [0, 1, 1, 2, 0, 2] \n",
      "\n",
      "q deque([1, 5, 3])\n",
      "n 4\n",
      "d [0, 1, 1, 2, 2, 2] \n",
      "\n",
      "q deque([5, 3, 4])\n",
      "q deque([3, 4])\n",
      "q deque([4])\n"
     ]
    },
    {
     "data": {
      "text/plain": [
       "3"
      ]
     },
     "execution_count": 9,
     "metadata": {},
     "output_type": "execute_result"
    }
   ],
   "source": [
    "n = 6\n",
    "edge = [[3, 6], [4, 3], [3, 2], [1, 3], [1, 2], [2, 4], [5, 2]]\n",
    "solution(n, edge)"
   ]
  },
  {
   "cell_type": "code",
   "execution_count": null,
   "id": "da65b93f",
   "metadata": {},
   "outputs": [],
   "source": []
  }
 ],
 "metadata": {
  "kernelspec": {
   "display_name": "Python 3",
   "language": "python",
   "name": "python3"
  },
  "language_info": {
   "codemirror_mode": {
    "name": "ipython",
    "version": 3
   },
   "file_extension": ".py",
   "mimetype": "text/x-python",
   "name": "python",
   "nbconvert_exporter": "python",
   "pygments_lexer": "ipython3",
   "version": "3.8.8"
  }
 },
 "nbformat": 4,
 "nbformat_minor": 5
}
