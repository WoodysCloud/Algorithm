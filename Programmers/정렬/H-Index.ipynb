{
 "cells": [
  {
   "cell_type": "markdown",
   "id": "fa534e36",
   "metadata": {},
   "source": [
    "# My answer"
   ]
  },
  {
   "cell_type": "code",
   "execution_count": 1,
   "id": "4b4c688e",
   "metadata": {},
   "outputs": [],
   "source": [
    "def solution(citations):\n",
    "    # 요소 순회?\n",
    "    # 조건문 처리?\n",
    "    # 요소값 (<,=,>) 요소값보다 크거나 같다(True/False)한 리스트에서의 True 개수\n",
    "    tmp = []\n",
    "    for c in citations:\n",
    "        # print(c)\n",
    "        # print([x for x in citations if c<=x])\n",
    "        tmp.append(c >= len([x for x in citations if c<=x]))\n",
    "    # print(tmp)\n",
    "    answer = tmp.count(True)\n",
    "    return answer"
   ]
  },
  {
   "cell_type": "code",
   "execution_count": 2,
   "id": "acf34814",
   "metadata": {},
   "outputs": [],
   "source": [
    "citations = [3, 0, 6, 1, 5]"
   ]
  },
  {
   "cell_type": "code",
   "execution_count": 3,
   "id": "69d42305",
   "metadata": {
    "scrolled": true
   },
   "outputs": [
    {
     "data": {
      "text/plain": [
       "3"
      ]
     },
     "execution_count": 3,
     "metadata": {},
     "output_type": "execute_result"
    }
   ],
   "source": [
    "solution(citations)"
   ]
  },
  {
   "cell_type": "code",
   "execution_count": 6,
   "id": "81fde446",
   "metadata": {},
   "outputs": [],
   "source": [
    "def solution(citations):\n",
    "    # 요소 순회?\n",
    "    # 조건문 처리?\n",
    "    # 요소값 (<,=,>) 요소값보다 크거나 같다(True/False)한 리스트에서의 True 개수\n",
    "    tmp = []\n",
    "    for c in citations:\n",
    "        print(c)\n",
    "        print([x for x in citations if c<=x], '\\n')\n",
    "        tmp.append(c >= len([x for x in citations if c<=x]))\n",
    "    print(tmp)\n",
    "    answer = tmp.count(True)\n",
    "    return answer"
   ]
  },
  {
   "cell_type": "code",
   "execution_count": 7,
   "id": "8b853459",
   "metadata": {},
   "outputs": [
    {
     "name": "stdout",
     "output_type": "stream",
     "text": [
      "3\n",
      "[3, 6, 5] \n",
      "\n",
      "0\n",
      "[3, 0, 6, 1, 5] \n",
      "\n",
      "6\n",
      "[6] \n",
      "\n",
      "1\n",
      "[3, 6, 1, 5] \n",
      "\n",
      "5\n",
      "[6, 5] \n",
      "\n",
      "[True, False, True, False, True]\n"
     ]
    },
    {
     "data": {
      "text/plain": [
       "3"
      ]
     },
     "execution_count": 7,
     "metadata": {},
     "output_type": "execute_result"
    }
   ],
   "source": [
    "solution(citations)"
   ]
  },
  {
   "cell_type": "markdown",
   "id": "fcbd2336",
   "metadata": {},
   "source": [
    "# Others"
   ]
  },
  {
   "cell_type": "code",
   "execution_count": 8,
   "id": "13f3d4aa",
   "metadata": {},
   "outputs": [],
   "source": [
    "def solution(citations):\n",
    "    citations.sort(reverse=True)\n",
    "    answer = max(map(min, enumerate(citations, start=1)))\n",
    "    return answer"
   ]
  },
  {
   "cell_type": "code",
   "execution_count": 26,
   "id": "24eb1f61",
   "metadata": {},
   "outputs": [],
   "source": [
    "def solution1(citations):\n",
    "    citations.sort(reverse=True)\n",
    "    answer = max(map(min, enumerate(citations, start=1)))\n",
    "    print(list(enumerate(citations, start=1)))\n",
    "    print(list(map(min, enumerate(citations, start=1))))\n",
    "    print(answer)\n",
    "    return answer"
   ]
  },
  {
   "cell_type": "code",
   "execution_count": 27,
   "id": "548d6e7d",
   "metadata": {},
   "outputs": [
    {
     "name": "stdout",
     "output_type": "stream",
     "text": [
      "[(1, 6), (2, 5), (3, 3), (4, 1), (5, 0)]\n",
      "[1, 2, 3, 1, 0]\n",
      "3\n"
     ]
    },
    {
     "data": {
      "text/plain": [
       "3"
      ]
     },
     "execution_count": 27,
     "metadata": {},
     "output_type": "execute_result"
    }
   ],
   "source": [
    "solution1(citations)"
   ]
  },
  {
   "cell_type": "code",
   "execution_count": 28,
   "id": "6185f707",
   "metadata": {},
   "outputs": [],
   "source": [
    "def solution2(citations):\n",
    "    citations = sorted(citations)\n",
    "    l = len(citations)\n",
    "    for i in range(l):\n",
    "        if citations[i] >= l-i:\n",
    "            return l-i\n",
    "    return 0"
   ]
  },
  {
   "cell_type": "code",
   "execution_count": 32,
   "id": "7fd77de0",
   "metadata": {},
   "outputs": [],
   "source": [
    "def solution3(citations):\n",
    "    n = len(citations)\n",
    "    citations.sort()\n",
    "    answer = max([(n-i) for i in range(n) if citations[i]>=(n-i)])     \n",
    "    print([(n-i) for i in range(n) if citations[i]>=(n-i)])\n",
    "    return answer"
   ]
  },
  {
   "cell_type": "code",
   "execution_count": 33,
   "id": "e162125e",
   "metadata": {},
   "outputs": [
    {
     "name": "stdout",
     "output_type": "stream",
     "text": [
      "[3, 2, 1]\n"
     ]
    },
    {
     "data": {
      "text/plain": [
       "3"
      ]
     },
     "execution_count": 33,
     "metadata": {},
     "output_type": "execute_result"
    }
   ],
   "source": [
    "solution3(citations)"
   ]
  },
  {
   "cell_type": "code",
   "execution_count": null,
   "id": "eece2e73",
   "metadata": {},
   "outputs": [],
   "source": []
  }
 ],
 "metadata": {
  "kernelspec": {
   "display_name": "Python 3",
   "language": "python",
   "name": "python3"
  },
  "language_info": {
   "codemirror_mode": {
    "name": "ipython",
    "version": 3
   },
   "file_extension": ".py",
   "mimetype": "text/x-python",
   "name": "python",
   "nbconvert_exporter": "python",
   "pygments_lexer": "ipython3",
   "version": "3.8.8"
  }
 },
 "nbformat": 4,
 "nbformat_minor": 5
}
