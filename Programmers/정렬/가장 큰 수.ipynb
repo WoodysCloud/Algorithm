{
 "cells": [
  {
   "cell_type": "markdown",
   "id": "72c5412e",
   "metadata": {},
   "source": [
    "# 가장 큰 수"
   ]
  },
  {
   "cell_type": "markdown",
   "id": "54cca212",
   "metadata": {},
   "source": [
    "## My answer (X)"
   ]
  },
  {
   "cell_type": "code",
   "execution_count": 38,
   "id": "6d857922",
   "metadata": {},
   "outputs": [],
   "source": [
    "# 모든 조합 생성 => while + set?\n",
    "# 정렬해서 숫자형으로 자료형 변환 => sorted?\n",
    "# 가장 큰 수 return => max?\n",
    "\n",
    "from itertools import permutations\n",
    "\n",
    "def solution(numbers):\n",
    "    numbers = list(map(str, numbers))\n",
    "    tmp = list(permutations(numbers, len(numbers)))\n",
    "    tmp2 = ''\n",
    "    tmp3 = []\n",
    "    for i in tmp:\n",
    "        for n in range(len(numbers)):\n",
    "            tmp2 += list(i)[n]\n",
    "        tmp3.append(tmp2)\n",
    "        tmp2 = ''\n",
    "    tmp3 = list(map(int, tmp3))\n",
    "    answer = str(max(tmp3))\n",
    "    return answer"
   ]
  },
  {
   "cell_type": "code",
   "execution_count": 52,
   "id": "53f5a76c",
   "metadata": {},
   "outputs": [],
   "source": [
    "numbers1 = [6, 10, 2] # return \"6210\"\n",
    "numbers2 = [3, 30, 34, 5, 9] # return \"9534330\""
   ]
  },
  {
   "cell_type": "code",
   "execution_count": 40,
   "id": "69ff67d1",
   "metadata": {},
   "outputs": [
    {
     "data": {
      "text/plain": [
       "'6210'"
      ]
     },
     "execution_count": 40,
     "metadata": {},
     "output_type": "execute_result"
    }
   ],
   "source": [
    "solution(numbers1)"
   ]
  },
  {
   "cell_type": "code",
   "execution_count": 41,
   "id": "b6a474d8",
   "metadata": {},
   "outputs": [
    {
     "data": {
      "text/plain": [
       "'9534330'"
      ]
     },
     "execution_count": 41,
     "metadata": {},
     "output_type": "execute_result"
    }
   ],
   "source": [
    "solution(numbers2)"
   ]
  },
  {
   "cell_type": "markdown",
   "id": "184f0561",
   "metadata": {},
   "source": [
    "## Others"
   ]
  },
  {
   "cell_type": "code",
   "execution_count": 89,
   "id": "8745e28b",
   "metadata": {},
   "outputs": [],
   "source": [
    "def solution1(numbers):\n",
    "    numbers = list(map(str, numbers))\n",
    "    numbers.sort(key = lambda x: x*3, reverse=True) # why..?? => 문자열 비교는 ASCII값(ord())으로 치환되어 비교\n",
    "    answer = str(int(''.join(numbers))) # join\n",
    "    return answer"
   ]
  },
  {
   "cell_type": "code",
   "execution_count": 90,
   "id": "fa38a6ff",
   "metadata": {},
   "outputs": [
    {
     "data": {
      "text/plain": [
       "('6210', '9534330')"
      ]
     },
     "execution_count": 90,
     "metadata": {},
     "output_type": "execute_result"
    }
   ],
   "source": [
    "solution1(numbers1), solution1(numbers2)"
   ]
  },
  {
   "cell_type": "markdown",
   "id": "a8403869",
   "metadata": {},
   "source": [
    "## Study"
   ]
  },
  {
   "cell_type": "markdown",
   "id": "fe0529a0",
   "metadata": {},
   "source": [
    " - lambda\n",
    " - join\n",
    " - itertools"
   ]
  },
  {
   "cell_type": "code",
   "execution_count": 79,
   "id": "bb17bcab",
   "metadata": {},
   "outputs": [
    {
     "data": {
      "text/plain": [
       "(57, 53, 51)"
      ]
     },
     "execution_count": 79,
     "metadata": {},
     "output_type": "execute_result"
    }
   ],
   "source": [
    "# ASCII 코드 변환: ord(), 한자리수만 가능\n",
    "ord('9'), ord('5'), ord('3')"
   ]
  },
  {
   "cell_type": "code",
   "execution_count": 80,
   "id": "278bb37a",
   "metadata": {},
   "outputs": [
    {
     "ename": "TypeError",
     "evalue": "ord() expected a character, but string of length 2 found",
     "output_type": "error",
     "traceback": [
      "\u001b[0;31m---------------------------------------------------------------------------\u001b[0m",
      "\u001b[0;31mTypeError\u001b[0m                                 Traceback (most recent call last)",
      "\u001b[0;32m<ipython-input-80-e8f16ffb21a4>\u001b[0m in \u001b[0;36m<module>\u001b[0;34m\u001b[0m\n\u001b[0;32m----> 1\u001b[0;31m \u001b[0mord\u001b[0m\u001b[0;34m(\u001b[0m\u001b[0;34m'34'\u001b[0m\u001b[0;34m)\u001b[0m\u001b[0;34m\u001b[0m\u001b[0;34m\u001b[0m\u001b[0m\n\u001b[0m",
      "\u001b[0;31mTypeError\u001b[0m: ord() expected a character, but string of length 2 found"
     ]
    }
   ],
   "source": [
    "ord('34')"
   ]
  },
  {
   "cell_type": "code",
   "execution_count": 95,
   "id": "67e804e2",
   "metadata": {},
   "outputs": [
    {
     "data": {
      "text/plain": [
       "False"
      ]
     },
     "execution_count": 95,
     "metadata": {},
     "output_type": "execute_result"
    }
   ],
   "source": [
    "'343434' > '999'"
   ]
  },
  {
   "cell_type": "code",
   "execution_count": 96,
   "id": "8a8f2d6e",
   "metadata": {},
   "outputs": [
    {
     "data": {
      "text/plain": [
       "False"
      ]
     },
     "execution_count": 96,
     "metadata": {},
     "output_type": "execute_result"
    }
   ],
   "source": [
    "'3030' > '33'"
   ]
  },
  {
   "cell_type": "code",
   "execution_count": 97,
   "id": "867029b5",
   "metadata": {},
   "outputs": [
    {
     "data": {
      "text/plain": [
       "True"
      ]
     },
     "execution_count": 97,
     "metadata": {},
     "output_type": "execute_result"
    }
   ],
   "source": [
    "'30' > '3'"
   ]
  },
  {
   "cell_type": "code",
   "execution_count": 98,
   "id": "3a7299c7",
   "metadata": {},
   "outputs": [
    {
     "data": {
      "text/plain": [
       "False"
      ]
     },
     "execution_count": 98,
     "metadata": {},
     "output_type": "execute_result"
    }
   ],
   "source": [
    "'303030' > '333'"
   ]
  },
  {
   "cell_type": "markdown",
   "id": "65600ef9",
   "metadata": {},
   "source": [
    "## reference: \n",
    " - [permutation](https://velog.io/@dramatic/Python-permutation-combination-%EC%88%9C%EC%97%B4%EA%B3%BC-%EC%A1%B0%ED%95%A9)\n",
    " - [itertools](https://docs.python.org/ko/3/library/itertools.html)\n",
    " - [lambda에서 왜 *3??](https://huidea.tistory.com/4)"
   ]
  },
  {
   "cell_type": "code",
   "execution_count": null,
   "id": "0d3240d8",
   "metadata": {},
   "outputs": [],
   "source": []
  }
 ],
 "metadata": {
  "kernelspec": {
   "display_name": "Python 3",
   "language": "python",
   "name": "python3"
  },
  "language_info": {
   "codemirror_mode": {
    "name": "ipython",
    "version": 3
   },
   "file_extension": ".py",
   "mimetype": "text/x-python",
   "name": "python",
   "nbconvert_exporter": "python",
   "pygments_lexer": "ipython3",
   "version": "3.8.8"
  }
 },
 "nbformat": 4,
 "nbformat_minor": 5
}
