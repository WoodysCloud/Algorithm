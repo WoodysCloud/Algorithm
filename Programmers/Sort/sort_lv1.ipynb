{
 "cells": [
  {
   "cell_type": "markdown",
   "id": "a1b71df3",
   "metadata": {},
   "source": [
    "# K번째 수"
   ]
  },
  {
   "cell_type": "markdown",
   "id": "ddd34480",
   "metadata": {},
   "source": [
    "## My answer"
   ]
  },
  {
   "cell_type": "code",
   "execution_count": 7,
   "id": "0ba960a3",
   "metadata": {},
   "outputs": [],
   "source": [
    "def solution(array, commands):\n",
    "    answer = []\n",
    "    tmp = []\n",
    "    for i in range(len(commands)):\n",
    "        tmp = array[commands[i][0]-1:commands[i][1]]\n",
    "        tmp.sort() # indexing상태에서 sort 불가능, sort()는 파괴함수\n",
    "        answer.append(tmp) # sort한것을 바로 append 불가능\n",
    "    for j in range(len(answer)):\n",
    "        answer[j] = answer[j][commands[j][-1]-1]\n",
    "    return answer"
   ]
  },
  {
   "cell_type": "code",
   "execution_count": 8,
   "id": "a911fd71",
   "metadata": {},
   "outputs": [],
   "source": [
    "array = [1, 5, 2, 6, 3, 7, 4]\n",
    "commands = [[2, 5, 3], [4, 4, 1], [1, 7, 3]]\n",
    "# return = [5, 6, 3]"
   ]
  },
  {
   "cell_type": "code",
   "execution_count": 9,
   "id": "9090c52d",
   "metadata": {},
   "outputs": [
    {
     "data": {
      "text/plain": [
       "[5, 6, 3]"
      ]
     },
     "execution_count": 9,
     "metadata": {},
     "output_type": "execute_result"
    }
   ],
   "source": [
    "solution(array, commands)"
   ]
  },
  {
   "cell_type": "markdown",
   "id": "b33c0d4d",
   "metadata": {},
   "source": [
    "## Others"
   ]
  },
  {
   "cell_type": "code",
   "execution_count": 6,
   "id": "94901f16",
   "metadata": {},
   "outputs": [],
   "source": [
    "# map, lambda, sorted 사용\n",
    "def solution1(array, commands):\n",
    "    return list(map(lambda x:sorted(array[x[0]-1:x[1]])[x[2]-1], commands))"
   ]
  },
  {
   "cell_type": "code",
   "execution_count": 13,
   "id": "5993daae",
   "metadata": {},
   "outputs": [],
   "source": [
    "# 변수 할당\n",
    "def solution2(array, commands):\n",
    "    answer = []\n",
    "    for command in commands:\n",
    "        i,j,k = command\n",
    "        answer.append(list(sorted(array[i-1:j]))[k-1])\n",
    "    return answer"
   ]
  },
  {
   "cell_type": "code",
   "execution_count": 12,
   "id": "5f9a8349",
   "metadata": {},
   "outputs": [],
   "source": [
    "# Best IMO\n",
    "def solution3(array, commands):\n",
    "    answer = []\n",
    "    for i, j, k in commands:\n",
    "        answer.append(sorted(array[i-1:j])[k-1])\n",
    "    return answer"
   ]
  },
  {
   "cell_type": "code",
   "execution_count": null,
   "id": "f30a97cd",
   "metadata": {},
   "outputs": [],
   "source": []
  }
 ],
 "metadata": {
  "kernelspec": {
   "display_name": "Python 3",
   "language": "python",
   "name": "python3"
  },
  "language_info": {
   "codemirror_mode": {
    "name": "ipython",
    "version": 3
   },
   "file_extension": ".py",
   "mimetype": "text/x-python",
   "name": "python",
   "nbconvert_exporter": "python",
   "pygments_lexer": "ipython3",
   "version": "3.8.8"
  }
 },
 "nbformat": 4,
 "nbformat_minor": 5
}
