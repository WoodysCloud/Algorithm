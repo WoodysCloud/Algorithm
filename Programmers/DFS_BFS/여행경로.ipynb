{
 "cells": [
  {
   "cell_type": "code",
   "execution_count": 48,
   "id": "3c3431df",
   "metadata": {},
   "outputs": [],
   "source": [
    "from collections import defaultdict\n",
    "\n",
    "def solution(tickets):\n",
    "    \n",
    "    dic = defaultdict(list)\n",
    "    for d, a in tickets:\n",
    "        dic[d].append(a)\n",
    "    for key in dic.keys():\n",
    "        dic[key].sort(reverse=True)\n",
    "    print(dic)\n",
    "    \n",
    "    stack = [\"ICN\"]\n",
    "    answer = []\n",
    "    while stack:\n",
    "        heading = stack[-1]\n",
    "        if not dic[heading]:\n",
    "            answer.append(stack.pop()) # answer.append(heading) => 시간초과..?\n",
    "        else:\n",
    "            stack.append(dic[heading][-1])\n",
    "            dic[heading].pop()\n",
    "        print(stack, answer)\n",
    "    \n",
    "    return answer[::-1] # 역순"
   ]
  },
  {
   "cell_type": "code",
   "execution_count": 49,
   "id": "7eb79c05",
   "metadata": {},
   "outputs": [],
   "source": [
    "tickets = [[\"ICN\", \"SFO\"], [\"ICN\", \"ATL\"], [\"SFO\", \"ATL\"], [\"ATL\", \"ICN\"], [\"ATL\",\"SFO\"]]"
   ]
  },
  {
   "cell_type": "code",
   "execution_count": 50,
   "id": "a4250f48",
   "metadata": {},
   "outputs": [
    {
     "name": "stdout",
     "output_type": "stream",
     "text": [
      "defaultdict(<class 'list'>, {'ICN': ['SFO', 'ATL'], 'SFO': ['ATL'], 'ATL': ['SFO', 'ICN']})\n",
      "['ICN', 'ATL'] []\n",
      "['ICN', 'ATL', 'ICN'] []\n",
      "['ICN', 'ATL', 'ICN', 'SFO'] []\n",
      "['ICN', 'ATL', 'ICN', 'SFO', 'ATL'] []\n",
      "['ICN', 'ATL', 'ICN', 'SFO', 'ATL', 'SFO'] []\n",
      "['ICN', 'ATL', 'ICN', 'SFO', 'ATL'] ['SFO']\n",
      "['ICN', 'ATL', 'ICN', 'SFO'] ['SFO', 'ATL']\n",
      "['ICN', 'ATL', 'ICN'] ['SFO', 'ATL', 'SFO']\n",
      "['ICN', 'ATL'] ['SFO', 'ATL', 'SFO', 'ICN']\n",
      "['ICN'] ['SFO', 'ATL', 'SFO', 'ICN', 'ATL']\n",
      "[] ['SFO', 'ATL', 'SFO', 'ICN', 'ATL', 'ICN']\n"
     ]
    },
    {
     "data": {
      "text/plain": [
       "['ICN', 'ATL', 'ICN', 'SFO', 'ATL', 'SFO']"
      ]
     },
     "execution_count": 50,
     "metadata": {},
     "output_type": "execute_result"
    }
   ],
   "source": [
    "solution(tickets)"
   ]
  },
  {
   "cell_type": "code",
   "execution_count": null,
   "id": "5344353d",
   "metadata": {},
   "outputs": [],
   "source": []
  }
 ],
 "metadata": {
  "kernelspec": {
   "display_name": "Python 3",
   "language": "python",
   "name": "python3"
  },
  "language_info": {
   "codemirror_mode": {
    "name": "ipython",
    "version": 3
   },
   "file_extension": ".py",
   "mimetype": "text/x-python",
   "name": "python",
   "nbconvert_exporter": "python",
   "pygments_lexer": "ipython3",
   "version": "3.8.8"
  }
 },
 "nbformat": 4,
 "nbformat_minor": 5
}
