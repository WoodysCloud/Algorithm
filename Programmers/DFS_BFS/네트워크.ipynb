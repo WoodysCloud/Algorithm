{
 "cells": [
  {
   "cell_type": "code",
   "execution_count": 1,
   "id": "8baef495",
   "metadata": {},
   "outputs": [],
   "source": [
    "from collections import deque\n",
    "\n",
    "def bfs(n, graph, start, visited):\n",
    "    # bfs algorithm => queue\n",
    "    queue = deque([start])\n",
    "    # 현재 노드 방문처리\n",
    "    visited[start] = True\n",
    "    while queue:\n",
    "        # 큐에서 선입선출\n",
    "        v = queue.popleft()\n",
    "        # 해당 node와 연결된, 방문하지 않은 node들을 큐에 삽입\n",
    "        for i in range(n):\n",
    "            if not visited[i] and graph[v][i] == 1:\n",
    "                queue.append(i)\n",
    "                print(i, queue)\n",
    "                visited[i] = True\n",
    "\n",
    "def solution(n, computers):\n",
    "    answer = 0\n",
    "    visited = [False for _ in range(n)]\n",
    "    for i in range(n):\n",
    "        if not visited[i]: # False일 경우 \n",
    "            bfs(n, computers, i, visited)\n",
    "            print(i, visited)\n",
    "            answer += 1\n",
    "            \n",
    "    return answer"
   ]
  },
  {
   "cell_type": "code",
   "execution_count": 2,
   "id": "04a9c454",
   "metadata": {},
   "outputs": [],
   "source": [
    "n = 3\n",
    "computers = [[1, 1, 0], [1, 1, 0], [0, 0, 1]]"
   ]
  },
  {
   "cell_type": "code",
   "execution_count": 3,
   "id": "7cc3f137",
   "metadata": {},
   "outputs": [
    {
     "name": "stdout",
     "output_type": "stream",
     "text": [
      "1 deque([1])\n",
      "0 [True, True, False]\n",
      "2 [True, True, True]\n"
     ]
    },
    {
     "data": {
      "text/plain": [
       "2"
      ]
     },
     "execution_count": 3,
     "metadata": {},
     "output_type": "execute_result"
    }
   ],
   "source": [
    "solution(n, computers)"
   ]
  },
  {
   "cell_type": "code",
   "execution_count": null,
   "id": "2afd0fe4",
   "metadata": {},
   "outputs": [],
   "source": []
  }
 ],
 "metadata": {
  "kernelspec": {
   "display_name": "Python 3",
   "language": "python",
   "name": "python3"
  },
  "language_info": {
   "codemirror_mode": {
    "name": "ipython",
    "version": 3
   },
   "file_extension": ".py",
   "mimetype": "text/x-python",
   "name": "python",
   "nbconvert_exporter": "python",
   "pygments_lexer": "ipython3",
   "version": "3.8.8"
  }
 },
 "nbformat": 4,
 "nbformat_minor": 5
}
