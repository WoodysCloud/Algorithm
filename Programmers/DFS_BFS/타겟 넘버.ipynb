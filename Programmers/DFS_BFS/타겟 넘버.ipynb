{
 "cells": [
  {
   "cell_type": "markdown",
   "id": "bff188ee",
   "metadata": {},
   "source": [
    "# My Answer"
   ]
  },
  {
   "cell_type": "code",
   "execution_count": null,
   "id": "ac7884d9",
   "metadata": {},
   "outputs": [],
   "source": []
  },
  {
   "cell_type": "code",
   "execution_count": 5,
   "id": "1cdde770",
   "metadata": {},
   "outputs": [],
   "source": [
    "numbers1 = [1, 1, 1, 1, 1]\n",
    "target1 = 3\n",
    "\n",
    "numbers2 = [4, 1, 2, 1]\n",
    "target2 = 4"
   ]
  },
  {
   "cell_type": "markdown",
   "id": "398b3142",
   "metadata": {},
   "source": [
    "# Others"
   ]
  },
  {
   "cell_type": "code",
   "execution_count": 1,
   "id": "19012e57",
   "metadata": {},
   "outputs": [],
   "source": [
    "def solution(numbers, target):\n",
    "    if not numbers and target == 0 : # numbers가 []이고, []로 0을 만드는 방법은 단 하나\n",
    "        return 1\n",
    "    elif not numbers: # numbers가 []인데, target은 0이 아니면 target을 만들 수 없으므로 방법은 없음\n",
    "        return 0\n",
    "    else: # 일반적인 경우\n",
    "        return solution(numbers[1:], target-numbers[0]) + solution(numbers[1:], target+numbers[0])\n",
    "        # 선입선출 => BFS\n",
    "        # 맨 앞 숫자 하나씩 빼가면서 다음 target에 가장 인접한 방법 탐색\n",
    "        # 사칙연산은 + / -"
   ]
  },
  {
   "cell_type": "code",
   "execution_count": 2,
   "id": "176ce30c",
   "metadata": {},
   "outputs": [],
   "source": [
    "def solution(numbers, target):\n",
    "    answer = 0\n",
    "    leaves = [0] # \"'(노드)트리'의 나뭇잎(노드))\"\n",
    "    for num in numbers: \n",
    "        tmp = []\n",
    "        for parent in leaves:\n",
    "            tmp.append(parent + num) \n",
    "            tmp.append(parent - num) \n",
    "        leaves = tmp # +/-로 나올 수 있는 모든 경우의 수를 leaves 리스트에 담는다.\n",
    "    for leaf in leaves:\n",
    "        if leaf == target: # 모든 경우의 수 중 target과 같은 값 찾기\n",
    "            answer += 1\n",
    "    return answer"
   ]
  },
  {
   "cell_type": "code",
   "execution_count": 8,
   "id": "d464ff02",
   "metadata": {},
   "outputs": [],
   "source": [
    "import collections\n",
    "\n",
    "# 가까운 노드부터 차례대로 진행\n",
    "def solution(numbers, target):\n",
    "    answer = 0\n",
    "    stack = collections.deque([(0, 0)]) # 큐, 선입선출 초기값 설정\n",
    "    while stack:\n",
    "        print(len(stack))\n",
    "        current_sum, num_idx = stack.popleft() # 맨 앞 노드\n",
    "\n",
    "        if num_idx == len(numbers): # numbers 리스트 값들 모두 사용\n",
    "            if current_sum == target: # 모두 사용해서 target값이 나온 경우(방법)\n",
    "                answer += 1\n",
    "        else:\n",
    "            number = numbers[num_idx]\n",
    "            stack.append((current_sum+number, num_idx + 1))\n",
    "            stack.append((current_sum-number, num_idx + 1))\n",
    "\n",
    "    return answer"
   ]
  },
  {
   "cell_type": "code",
   "execution_count": 9,
   "id": "b5b80d86",
   "metadata": {},
   "outputs": [
    {
     "name": "stdout",
     "output_type": "stream",
     "text": [
      "1\n",
      "2\n",
      "3\n",
      "4\n",
      "5\n",
      "6\n",
      "7\n",
      "8\n",
      "9\n",
      "10\n",
      "11\n",
      "12\n",
      "13\n",
      "14\n",
      "15\n",
      "16\n",
      "17\n",
      "18\n",
      "19\n",
      "20\n",
      "21\n",
      "22\n",
      "23\n",
      "24\n",
      "25\n",
      "26\n",
      "27\n",
      "28\n",
      "29\n",
      "30\n",
      "31\n",
      "32\n",
      "31\n",
      "30\n",
      "29\n",
      "28\n",
      "27\n",
      "26\n",
      "25\n",
      "24\n",
      "23\n",
      "22\n",
      "21\n",
      "20\n",
      "19\n",
      "18\n",
      "17\n",
      "16\n",
      "15\n",
      "14\n",
      "13\n",
      "12\n",
      "11\n",
      "10\n",
      "9\n",
      "8\n",
      "7\n",
      "6\n",
      "5\n",
      "4\n",
      "3\n",
      "2\n",
      "1\n"
     ]
    },
    {
     "data": {
      "text/plain": [
       "5"
      ]
     },
     "execution_count": 9,
     "metadata": {},
     "output_type": "execute_result"
    }
   ],
   "source": [
    "solution(numbers1, target1)"
   ]
  },
  {
   "cell_type": "code",
   "execution_count": 4,
   "id": "cc4817c3",
   "metadata": {},
   "outputs": [],
   "source": [
    "answer = 0\n",
    "def DFS(idx, numbers, target, value): # DFS = \"Stack\", \"선입후출\", 깊이우선탐색\n",
    "    global answer\n",
    "    N = len(numbers)\n",
    "    if(idx == N and target == value): # 리스트 모든 값을 사용했을 때 value값이 target이면 하나의 방법\n",
    "        answer += 1\n",
    "        return\n",
    "    if(idx == N):\n",
    "        return\n",
    "    \n",
    "    # 재귀함수\n",
    "    # 목표지점까지 들어가면서 하나씩\n",
    "    DFS(idx+1,numbers,target,value+numbers[idx])\n",
    "    DFS(idx+1,numbers,target,value-numbers[idx])\n",
    "    \n",
    "def solution(numbers, target):\n",
    "    global answer\n",
    "    DFS(0,numbers,target,0)\n",
    "    return answer"
   ]
  },
  {
   "cell_type": "code",
   "execution_count": null,
   "id": "2d00f15e",
   "metadata": {},
   "outputs": [],
   "source": []
  }
 ],
 "metadata": {
  "kernelspec": {
   "display_name": "Python 3",
   "language": "python",
   "name": "python3"
  },
  "language_info": {
   "codemirror_mode": {
    "name": "ipython",
    "version": 3
   },
   "file_extension": ".py",
   "mimetype": "text/x-python",
   "name": "python",
   "nbconvert_exporter": "python",
   "pygments_lexer": "ipython3",
   "version": "3.8.8"
  }
 },
 "nbformat": 4,
 "nbformat_minor": 5
}
